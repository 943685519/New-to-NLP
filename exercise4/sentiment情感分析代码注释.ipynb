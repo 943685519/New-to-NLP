{
 "cells": [
  {
   "cell_type": "markdown",
   "metadata": {},
   "source": [
    "# 情感分析"
   ]
  },
  {
   "cell_type": "markdown",
   "metadata": {},
   "source": [
    "# 情感分析"
   ]
  },
  {
   "cell_type": "markdown",
   "metadata": {},
   "source": [
    "## 第一步：导入豆瓣电影数据集，只有训练集和测试集"
   ]
  },
  {
   "cell_type": "markdown",
   "metadata": {},
   "source": [
    "- TorchText中的一个重要概念是`Field`。`Field`决定了你的数据会被怎样处理。在我们的情感分类任务中，我们所需要接触到的数据有文本字符串和两种情感，\"pos\"或者\"neg\"。\n",
    "- `Field`的参数制定了数据会被怎样处理。\n",
    "- 我们使用`TEXT` field来定义如何处理电影评论，使用`LABEL` field来处理两个情感类别。\n",
    "- 我们的`TEXT` field带有`tokenize='spacy'`，这表示我们会用[spaCy](https://spacy.io) tokenizer来tokenize英文句子。如果我们不特别声明`tokenize`这个参数，那么默认的分词方法是使用空格。\n",
    "- 安装spaCy\n",
    "```\n",
    "pip install -U spacy\n",
    "python -m spacy download en\n",
    "```\n",
    "- `LABEL`由`LabelField`定义。这是一种特别的用来处理label的`Field`。我们后面会解释dtype。\n",
    "- 更多关于`Fields`，参见https://github.com/pytorch/text/blob/master/torchtext/data/field.py\n",
    "- 和之前一样，我们会设定random seeds使实验可以复现。\n",
    "\n",
    "\n",
    "- TorchText支持很多常见的自然语言处理数据集。\n",
    "- 下面的代码会自动下载IMDb数据集，然后分成train/test两个`torchtext.datasets`类别。数据被前面的`Fields`处理。IMDb数据集一共有50000电影评论，每个评论都被标注为正面的或负面的。"
   ]
  },
  {
   "cell_type": "markdown",
   "metadata": {},
   "source": [
    "<font color=red><b>先了解下Spacy库：[spaCy介绍和使用教程](https://juejin.im/post/5971a4b9f265da6c42353332?utm_source=gold_browser_extension%5D)</b></font>  \n",
    "<font color=red><b>再了解下torchtext库：[torchtext介绍和使用教程](https://blog.csdn.net/u012436149/article/details/79310176)：这个新手必看，不看下面代码听不懂</b></font> "
   ]
  },
  {
   "cell_type": "code",
   "execution_count": null,
   "metadata": {},
   "outputs": [],
   "source": [
    "!ls"
   ]
  },
  {
   "cell_type": "code",
   "execution_count": 4,
   "metadata": {},
   "outputs": [],
   "source": [
    "import torch\n",
    "from torchtext import data\n",
    "\n",
    "SEED = 1234\n",
    "\n",
    "torch.manual_seed(SEED) #为CPU设置随机种子\n",
    "torch.cuda.manual_seed(SEED)#为GPU设置随机种子\n",
    "torch.backends.cudnn.deterministic = True  #在程序刚开始加这条语句可以提升一点训练速度，没什么额外开销。\n",
    "\n",
    "#首先，我们要创建两个Field 对象：这两个对象包含了我们打算如何预处理文本数据的信息。\n",
    "TEXT = data.Field(tokenize='spacy')\n",
    "#torchtext.data.Field : 用来定义字段的处理方法（文本字段，标签字段）\n",
    "# spaCy:英语分词器,类似于NLTK库，如果没有传递tokenize参数，则默认只是在空格上拆分字符串。\n",
    "LABEL = data.LabelField(dtype=torch.float)\n",
    "#LabelField是Field类的一个特殊子集，专门用于处理标签。 "
   ]
  },
  {
   "cell_type": "code",
   "execution_count": 2,
   "metadata": {},
   "outputs": [
    {
     "name": "stdout",
     "output_type": "stream",
     "text": [
      "downloading aclImdb_v1.tar.gz\n"
     ]
    },
    {
     "name": "stderr",
     "output_type": "stream",
     "text": [
      "aclImdb_v1.tar.gz: 100%|██████████| 84.1M/84.1M [00:03<00:00, 22.8MB/s]\n"
     ]
    }
   ],
   "source": [
    "from torchtext import datasets\n",
    "train_data, test_data = datasets.IMDB.splits(TEXT, LABEL)\n",
    "# 加载豆瓣电影评论数据集"
   ]
  },
  {
   "cell_type": "code",
   "execution_count": 3,
   "metadata": {},
   "outputs": [
    {
     "name": "stdout",
     "output_type": "stream",
     "text": [
      "{'text': ['This', 'movie', 'is', 'visually', 'stunning', '.', 'Who', 'cares', 'if', 'she', 'can', 'act', 'or', 'not', '.', 'Each', 'scene', 'is', 'a', 'work', 'of', 'art', 'composed', 'and', 'captured', 'by', 'John', 'Derek', '.', 'The', 'locations', ',', 'set', 'designs', ',', 'and', 'costumes', 'function', 'perfectly', 'to', 'convey', 'what', 'is', 'found', 'in', 'a', 'love', 'story', 'comprised', 'of', 'beauty', ',', 'youth', 'and', 'wealth', '.', 'In', 'some', 'ways', 'I', 'would', 'like', 'to', 'see', 'this', 'movie', 'as', 'a', 'tribute', 'to', 'John', 'and', 'Bo', 'Derek', \"'s\", 'story', '.', 'And', '...', 'this', 'commentary', 'would', 'not', 'be', 'complete', 'without', 'mentioning', 'Anthony', 'Quinn', \"'s\", 'role', 'as', 'father', ',', 'mentor', ',', 'lover', ',', 'and', 'his', 'portrayal', 'of', 'a', 'man', ',', 'of', 'men', ',', 'lost', 'to', 'a', 'bygone', 'era', 'when', 'men', 'were', 'men', '.', 'There', 'are', 'some', 'of', 'us', 'who', 'find', 'value', 'in', 'strength', 'and', 'direction', 'wrapped', 'in', 'a', 'confidence', 'that', 'contributes', 'to', 'a', 'sense', 'of', 'confidence', ',', 'containment', ',', 'and', 'security', '.', 'Yes', ',', 'they', 'do', 'not', 'make', 'men', 'like', 'that', 'anymore', '!', 'But', ',', 'then', 'how', 'often', 'do', 'you', 'find', 'women', 'who', 'are', 'made', 'like', 'Bo', 'Derek', '.'], 'label': 'pos'}\n"
     ]
    }
   ],
   "source": [
    "print(vars(train_data.examples[0])) #可以查看数据集长啥样子"
   ]
  },
  {
   "cell_type": "markdown",
   "metadata": {},
   "source": [
    "## 第二步：训练集划分为训练集和验证集"
   ]
  },
  {
   "cell_type": "markdown",
   "metadata": {},
   "source": [
    "- 由于我们现在只有train/test这两个分类，所以我们需要创建一个新的validation set。我们可以使用`.split()`创建新的分类。\n",
    "- 默认的数据分割是 70、30，如果我们声明`split_ratio`，可以改变split之间的比例，`split_ratio=0.8`表示80%的数据是训练集，20%是验证集。\n",
    "- 我们还声明`random_state`这个参数，确保我们每次分割的数据集都是一样的。"
   ]
  },
  {
   "cell_type": "code",
   "execution_count": 4,
   "metadata": {},
   "outputs": [],
   "source": [
    "import random\n",
    "train_data, valid_data = train_data.split(random_state=random.seed(SEED)) #默认split_ratio=0.7"
   ]
  },
  {
   "cell_type": "code",
   "execution_count": 5,
   "metadata": {},
   "outputs": [
    {
     "name": "stdout",
     "output_type": "stream",
     "text": [
      "Number of training examples: 17500\n",
      "Number of validation examples: 7500\n",
      "Number of testing examples: 25000\n"
     ]
    }
   ],
   "source": [
    "print(f'Number of training examples: {len(train_data)}')\n",
    "print(f'Number of validation examples: {len(valid_data)}')\n",
    "print(f'Number of testing examples: {len(test_data)}')"
   ]
  },
  {
   "cell_type": "markdown",
   "metadata": {},
   "source": [
    "## 第三步：用训练集建立vocabulary，就是把每个单词一一映射到一个数字。"
   ]
  },
  {
   "cell_type": "markdown",
   "metadata": {},
   "source": [
    "- 下一步我们需要创建 _vocabulary_ 。_vocabulary_ 就是把每个单词一一映射到一个数字。\n",
    "![](assets/sentiment5.png)\n",
    "- 我们使用最常见的25k个单词来构建我们的单词表，用`max_size`这个参数可以做到这一点。\n",
    "- 所有其他的单词都用`<unk>`来表示。"
   ]
  },
  {
   "cell_type": "code",
   "execution_count": 6,
   "metadata": {},
   "outputs": [
    {
     "name": "stderr",
     "output_type": "stream",
     "text": [
      ".vector_cache/glove.6B.zip: 862MB [00:23, 36.0MB/s]                               \n",
      "100%|█████████▉| 399597/400000 [00:25<00:00, 16569.01it/s]"
     ]
    }
   ],
   "source": [
    "# TEXT.build_vocab(train_data, max_size=25000)\n",
    "# LABEL.build_vocab(train_data)\n",
    "TEXT.build_vocab(train_data, max_size=25000, vectors=\"glove.6B.100d\", unk_init=torch.Tensor.normal_)\n",
    "#从预训练的词向量（vectors） 中，将当前(corpus语料库)词汇表的词向量抽取出来，构成当前 corpus 的 Vocab（词汇表）。\n",
    "#预训练的 vectors 来自glove模型，每个单词有100维。glove模型训练的词向量参数来自很大的语料库，\n",
    "#而我们的电影评论的语料库小一点，所以词向量需要更新，glove的词向量适合用做初始化参数。\n",
    "LABEL.build_vocab(train_data) "
   ]
  },
  {
   "cell_type": "code",
   "execution_count": 7,
   "metadata": {},
   "outputs": [
    {
     "name": "stdout",
     "output_type": "stream",
     "text": [
      "Unique tokens in TEXT vocabulary: 25002\n",
      "Unique tokens in LABEL vocabulary: 2\n"
     ]
    }
   ],
   "source": [
    "print(f\"Unique tokens in TEXT vocabulary: {len(TEXT.vocab)}\")\n",
    "print(f\"Unique tokens in LABEL vocabulary: {len(LABEL.vocab)}\")"
   ]
  },
  {
   "cell_type": "code",
   "execution_count": 8,
   "metadata": {},
   "outputs": [
    {
     "name": "stdout",
     "output_type": "stream",
     "text": [
      "[('neg', 0), ('pos', 1)]\n",
      "[('<unk>', 0), ('<pad>', 1), ('the', 2), (',', 3), ('.', 4), ('a', 5), ('and', 6), ('of', 7), ('to', 8), ('is', 9), ('in', 10), ('I', 11), ('it', 12), ('that', 13), ('\"', 14), (\"'s\", 15), ('this', 16), ('-', 17), ('/><br', 18), ('was', 19)]\n",
      "------------------------------------------------------------\n",
      "[('the', 201815), (',', 192511), ('.', 165127), ('a', 109096), ('and', 108875), ('of', 100402), ('to', 93905), ('is', 76001), ('in', 61097), ('I', 54439), ('it', 53649), ('that', 49325), ('\"', 44431), (\"'s\", 43359), ('this', 42423), ('-', 37142), ('/><br', 35613), ('was', 34947), ('as', 30412), ('movie', 29873)]\n"
     ]
    }
   ],
   "source": [
    "print(list(LABEL.vocab.stoi.items())) # 只有两个类别值\n",
    "print(list(TEXT.vocab.stoi.items())[:20])\n",
    "#语料库单词频率越高，索引越靠前。前两个默认为unk和pad。\n",
    "print(\"------\"*10)\n",
    "print(TEXT.vocab.freqs.most_common(20))\n",
    "# 这里可以看到unk和pad没有计数"
   ]
  },
  {
   "cell_type": "code",
   "execution_count": 9,
   "metadata": {},
   "outputs": [
    {
     "name": "stdout",
     "output_type": "stream",
     "text": [
      "['<unk>', '<pad>', 'the', ',', '.', 'a', 'and', 'of', 'to', 'is']\n"
     ]
    }
   ],
   "source": [
    "print(TEXT.vocab.itos[:10]) #查看TEXT单词表"
   ]
  },
  {
   "cell_type": "markdown",
   "metadata": {},
   "source": [
    "## 第四步：创建iterators，每个itartion都会返回一个batch的样本。"
   ]
  },
  {
   "cell_type": "markdown",
   "metadata": {},
   "source": [
    "- 最后一步数据的准备是创建iterators。每个itartion都会返回一个batch的examples。\n",
    "- 我们会使用`BucketIterator`。`BucketIterator`会把长度差不多的句子放到同一个batch中，确保每个batch中不出现太多的padding。\n",
    "- 严格来说，我们这份notebook中的模型代码都有一个问题，也就是我们把`<pad>`也当做了模型的输入进行训练。更好的做法是在模型中把由`<pad>`产生的输出给消除掉。在这节课中我们简单处理，直接把`<pad>`也用作模型输入了。由于`<pad>`数量不多，模型的效果也不差。\n",
    "- 如果我们有GPU，还可以指定每个iteration返回的tensor都在GPU上。"
   ]
  },
  {
   "cell_type": "code",
   "execution_count": 11,
   "metadata": {},
   "outputs": [
    {
     "data": {
      "text/plain": [
       "'\\nIterator：标准迭代器\\n\\nBucketIerator：相比于标准迭代器，会将类似长度的样本当做一批来处理，\\n因为在文本处理中经常会需要将每一批样本长度补齐为当前批中最长序列的长度，\\n因此当样本长度差别较大时，使用BucketIerator可以带来填充效率的提高。\\n除此之外，我们还可以在Field中通过fix_length参数来对样本进行截断补齐操作。\\n\\nBPTTIterator: 基于BPTT(基于时间的反向传播算法)的迭代器，一般用于语言模型中。\\n'"
      ]
     },
     "execution_count": 11,
     "metadata": {},
     "output_type": "execute_result"
    }
   ],
   "source": [
    "BATCH_SIZE = 64\n",
    "\n",
    "device = torch.device('cuda' if torch.cuda.is_available() else 'cpu')\n",
    "\n",
    "#相当于把样本划分batch，把相等长度的单词尽可能的划分到一个batch，不够长的就用padding。\n",
    "train_iterator, valid_iterator, test_iterator = data.BucketIterator.splits(\n",
    "    (train_data, valid_data, test_data), \n",
    "    batch_size=BATCH_SIZE,\n",
    "    device=device)\n",
    "\n",
    "'''\n",
    "Iterator：标准迭代器\n",
    "\n",
    "BucketIerator：相比于标准迭代器，会将类似长度的样本当做一批来处理，\n",
    "因为在文本处理中经常会需要将每一批样本长度补齐为当前批中最长序列的长度，\n",
    "因此当样本长度差别较大时，使用BucketIerator可以带来填充效率的提高。\n",
    "除此之外，我们还可以在Field中通过fix_length参数来对样本进行截断补齐操作。\n",
    "\n",
    "BPTTIterator: 基于BPTT(基于时间的反向传播算法)的迭代器，一般用于语言模型中。\n",
    "'''"
   ]
  },
  {
   "cell_type": "code",
   "execution_count": 12,
   "metadata": {},
   "outputs": [
    {
     "name": "stdout",
     "output_type": "stream",
     "text": [
      "torch.Size([64])\n",
      "torch.Size([983, 64])\n"
     ]
    }
   ],
   "source": [
    "print(next(iter(train_iterator)).label.shape)\n",
    "print(next(iter(train_iterator)).text.shape)# \n",
    "# 多运行一次可以发现一条评论的单词长度会变\n",
    "# 下面text的维度983*64，983为一条评论的单词长度"
   ]
  },
  {
   "cell_type": "code",
   "execution_count": 13,
   "metadata": {},
   "outputs": [
    {
     "name": "stdout",
     "output_type": "stream",
     "text": [
      "torch.Size([1077, 64])\n",
      "['It', 'was', 'interesting', 'to', 'see', 'how', 'accurate', 'the', 'writing', 'was', 'on', 'the', 'geek', 'buzz', 'words', ',', 'yet', 'very', 'naive', 'on', 'the', 'corporate', 'world', '.', 'The', 'Justice', 'Department', 'would', 'catch', 'more', 'of', 'the', 'big', '<unk>', 'giants', 'if', 'they', 'did', 'such', 'naive', 'things', 'to', 'win', '.', 'The', 'real', 'corporate', 'world', 'is', 'much', 'more', 'subtle', 'and', 'interesting', ',', 'yet', 'every', 'bit', 'as', 'sinister', '.', 'I', 'seriously', 'doubt', 'ANY', '<unk>', 'would', 'actually', 'kill', 'someone', 'directly', ';', 'even', 'the', '<unk>', 'is', 'more', '<unk>', 'these', 'days', '.', 'In', 'the', 'real', 'world', ',', 'they', 'do', 'kill', 'people', 'with', '<unk>', ',', 'pollution', ',', '<unk>', ',', '<unk>', ',', 'etc', '.', 'This', 'movie', 'must', 'have', 'been', 'developed', 'by', 'some', 'garage', 'geeks', ',', 'I', 'think', ',', 'and', 'the', 'studios', 'did', \"n't\", 'know', 'the', 'difference', '.', 'They', 'just', 'wanted', 'something', 'to', 'capitalize', 'on', 'the', 'Microsoft', '<unk>', 'case', 'in', 'the', 'news', '.', '<pad>', '<pad>', '<pad>', '<pad>', '<pad>', '<pad>', '<pad>', '<pad>', '<pad>', '<pad>', '<pad>', '<pad>', '<pad>', '<pad>', '<pad>', '<pad>', '<pad>', '<pad>', '<pad>', '<pad>', '<pad>', '<pad>', '<pad>', '<pad>', '<pad>', '<pad>', '<pad>', '<pad>', '<pad>', '<pad>', '<pad>', '<pad>', '<pad>', '<pad>', '<pad>', '<pad>', '<pad>', '<pad>', '<pad>', '<pad>', '<pad>', '<pad>', '<pad>', '<pad>', '<pad>', '<pad>', '<pad>', '<pad>', '<pad>', '<pad>', '<pad>', '<pad>', '<pad>', '<pad>', '<pad>', '<pad>', '<pad>', '<pad>', '<pad>', '<pad>', '<pad>', '<pad>', '<pad>', '<pad>', '<pad>', '<pad>', '<pad>', '<pad>', '<pad>', '<pad>', '<pad>', '<pad>', '<pad>', '<pad>', '<pad>', '<pad>', '<pad>', '<pad>', '<pad>', '<pad>', '<pad>', '<pad>', '<pad>', '<pad>', '<pad>', '<pad>', '<pad>', '<pad>', '<pad>', '<pad>', '<pad>', '<pad>', '<pad>', '<pad>', '<pad>', '<pad>', '<pad>', '<pad>', '<pad>', '<pad>', '<pad>', '<pad>', '<pad>', '<pad>', '<pad>', '<pad>', '<pad>', '<pad>', '<pad>', '<pad>', '<pad>', '<pad>', '<pad>', '<pad>', '<pad>', '<pad>', '<pad>', '<pad>', '<pad>', '<pad>', '<pad>', '<pad>', '<pad>', '<pad>', '<pad>', '<pad>', '<pad>', '<pad>', '<pad>', '<pad>', '<pad>', '<pad>', '<pad>', '<pad>', '<pad>', '<pad>', '<pad>', '<pad>', '<pad>', '<pad>', '<pad>', '<pad>', '<pad>', '<pad>', '<pad>', '<pad>', '<pad>', '<pad>', '<pad>', '<pad>', '<pad>', '<pad>', '<pad>', '<pad>', '<pad>', '<pad>', '<pad>', '<pad>', '<pad>', '<pad>', '<pad>', '<pad>', '<pad>', '<pad>', '<pad>', '<pad>', '<pad>', '<pad>', '<pad>', '<pad>', '<pad>', '<pad>', '<pad>', '<pad>', '<pad>', '<pad>', '<pad>', '<pad>', '<pad>', '<pad>', '<pad>', '<pad>', '<pad>', '<pad>', '<pad>', '<pad>', '<pad>', '<pad>', '<pad>', '<pad>', '<pad>', '<pad>', '<pad>', '<pad>', '<pad>', '<pad>', '<pad>', '<pad>', '<pad>', '<pad>', '<pad>', '<pad>', '<pad>', '<pad>', '<pad>', '<pad>', '<pad>', '<pad>', '<pad>', '<pad>', '<pad>', '<pad>', '<pad>', '<pad>', '<pad>', '<pad>', '<pad>', '<pad>', '<pad>', '<pad>', '<pad>', '<pad>', '<pad>', '<pad>', '<pad>', '<pad>', '<pad>', '<pad>', '<pad>', '<pad>', '<pad>', '<pad>', '<pad>', '<pad>', '<pad>', '<pad>', '<pad>', '<pad>', '<pad>', '<pad>', '<pad>', '<pad>', '<pad>', '<pad>', '<pad>', '<pad>', '<pad>', '<pad>', '<pad>', '<pad>', '<pad>', '<pad>', '<pad>', '<pad>', '<pad>', '<pad>', '<pad>', '<pad>', '<pad>', '<pad>', '<pad>', '<pad>', '<pad>', '<pad>', '<pad>', '<pad>', '<pad>', '<pad>', '<pad>', '<pad>', '<pad>', '<pad>', '<pad>', '<pad>', '<pad>', '<pad>', '<pad>', '<pad>', '<pad>', '<pad>', '<pad>', '<pad>', '<pad>', '<pad>', '<pad>', '<pad>', '<pad>', '<pad>', '<pad>', '<pad>', '<pad>', '<pad>', '<pad>', '<pad>', '<pad>', '<pad>', '<pad>', '<pad>', '<pad>', '<pad>', '<pad>', '<pad>', '<pad>', '<pad>', '<pad>', '<pad>', '<pad>', '<pad>', '<pad>', '<pad>', '<pad>', '<pad>', '<pad>', '<pad>', '<pad>', '<pad>', '<pad>', '<pad>', '<pad>', '<pad>', '<pad>', '<pad>', '<pad>', '<pad>', '<pad>', '<pad>', '<pad>', '<pad>', '<pad>', '<pad>', '<pad>', '<pad>', '<pad>', '<pad>', '<pad>', '<pad>', '<pad>', '<pad>', '<pad>', '<pad>', '<pad>', '<pad>', '<pad>', '<pad>', '<pad>', '<pad>', '<pad>', '<pad>', '<pad>', '<pad>', '<pad>', '<pad>', '<pad>', '<pad>', '<pad>', '<pad>', '<pad>', '<pad>', '<pad>', '<pad>', '<pad>', '<pad>', '<pad>', '<pad>', '<pad>', '<pad>', '<pad>', '<pad>', '<pad>', '<pad>', '<pad>', '<pad>', '<pad>', '<pad>', '<pad>', '<pad>', '<pad>', '<pad>', '<pad>', '<pad>', '<pad>', '<pad>', '<pad>', '<pad>', '<pad>', '<pad>', '<pad>', '<pad>', '<pad>', '<pad>', '<pad>', '<pad>', '<pad>', '<pad>', '<pad>', '<pad>', '<pad>', '<pad>', '<pad>', '<pad>', '<pad>', '<pad>', '<pad>', '<pad>', '<pad>', '<pad>', '<pad>', '<pad>', '<pad>', '<pad>', '<pad>', '<pad>', '<pad>', '<pad>', '<pad>', '<pad>', '<pad>', '<pad>', '<pad>', '<pad>', '<pad>', '<pad>', '<pad>', '<pad>', '<pad>', '<pad>', '<pad>', '<pad>', '<pad>', '<pad>', '<pad>', '<pad>', '<pad>', '<pad>', '<pad>', '<pad>', '<pad>', '<pad>', '<pad>', '<pad>', '<pad>', '<pad>', '<pad>', '<pad>', '<pad>', '<pad>', '<pad>', '<pad>', '<pad>', '<pad>', '<pad>', '<pad>', '<pad>', '<pad>', '<pad>', '<pad>', '<pad>', '<pad>', '<pad>', '<pad>', '<pad>', '<pad>', '<pad>', '<pad>', '<pad>', '<pad>', '<pad>', '<pad>', '<pad>', '<pad>', '<pad>', '<pad>', '<pad>', '<pad>', '<pad>', '<pad>', '<pad>', '<pad>', '<pad>', '<pad>', '<pad>', '<pad>', '<pad>', '<pad>', '<pad>', '<pad>', '<pad>', '<pad>', '<pad>', '<pad>', '<pad>', '<pad>', '<pad>', '<pad>', '<pad>', '<pad>', '<pad>', '<pad>', '<pad>', '<pad>', '<pad>', '<pad>', '<pad>', '<pad>', '<pad>', '<pad>', '<pad>', '<pad>', '<pad>', '<pad>', '<pad>', '<pad>', '<pad>', '<pad>', '<pad>', '<pad>', '<pad>', '<pad>', '<pad>', '<pad>', '<pad>', '<pad>', '<pad>', '<pad>', '<pad>', '<pad>', '<pad>', '<pad>', '<pad>', '<pad>', '<pad>', '<pad>', '<pad>', '<pad>', '<pad>', '<pad>', '<pad>', '<pad>', '<pad>', '<pad>', '<pad>', '<pad>', '<pad>', '<pad>', '<pad>', '<pad>', '<pad>', '<pad>', '<pad>', '<pad>', '<pad>', '<pad>', '<pad>', '<pad>', '<pad>', '<pad>', '<pad>', '<pad>', '<pad>', '<pad>', '<pad>', '<pad>', '<pad>', '<pad>', '<pad>', '<pad>', '<pad>', '<pad>', '<pad>', '<pad>', '<pad>', '<pad>', '<pad>', '<pad>', '<pad>', '<pad>', '<pad>', '<pad>', '<pad>', '<pad>', '<pad>', '<pad>', '<pad>', '<pad>', '<pad>', '<pad>', '<pad>', '<pad>', '<pad>', '<pad>', '<pad>', '<pad>', '<pad>', '<pad>', '<pad>', '<pad>', '<pad>', '<pad>', '<pad>', '<pad>', '<pad>', '<pad>', '<pad>', '<pad>', '<pad>', '<pad>', '<pad>', '<pad>', '<pad>', '<pad>', '<pad>', '<pad>', '<pad>', '<pad>', '<pad>', '<pad>', '<pad>', '<pad>', '<pad>', '<pad>', '<pad>', '<pad>', '<pad>', '<pad>', '<pad>', '<pad>', '<pad>', '<pad>', '<pad>', '<pad>', '<pad>', '<pad>', '<pad>', '<pad>', '<pad>', '<pad>', '<pad>', '<pad>', '<pad>', '<pad>', '<pad>', '<pad>', '<pad>', '<pad>', '<pad>', '<pad>', '<pad>', '<pad>', '<pad>', '<pad>', '<pad>', '<pad>', '<pad>', '<pad>', '<pad>', '<pad>', '<pad>', '<pad>', '<pad>', '<pad>', '<pad>', '<pad>', '<pad>', '<pad>', '<pad>', '<pad>', '<pad>', '<pad>', '<pad>', '<pad>', '<pad>', '<pad>', '<pad>', '<pad>', '<pad>', '<pad>', '<pad>', '<pad>', '<pad>', '<pad>', '<pad>', '<pad>', '<pad>', '<pad>', '<pad>', '<pad>', '<pad>', '<pad>', '<pad>', '<pad>', '<pad>', '<pad>', '<pad>', '<pad>', '<pad>', '<pad>', '<pad>', '<pad>', '<pad>', '<pad>', '<pad>', '<pad>', '<pad>', '<pad>', '<pad>', '<pad>', '<pad>', '<pad>', '<pad>', '<pad>', '<pad>', '<pad>', '<pad>', '<pad>', '<pad>', '<pad>', '<pad>', '<pad>', '<pad>', '<pad>', '<pad>', '<pad>', '<pad>', '<pad>', '<pad>', '<pad>', '<pad>', '<pad>', '<pad>', '<pad>', '<pad>', '<pad>', '<pad>', '<pad>', '<pad>', '<pad>', '<pad>', '<pad>', '<pad>', '<pad>', '<pad>', '<pad>', '<pad>', '<pad>', '<pad>', '<pad>', '<pad>', '<pad>', '<pad>', '<pad>', '<pad>', '<pad>', '<pad>', '<pad>', '<pad>', '<pad>', '<pad>', '<pad>', '<pad>', '<pad>', '<pad>', '<pad>', '<pad>', '<pad>', '<pad>', '<pad>', '<pad>', '<pad>', '<pad>', '<pad>', '<pad>', '<pad>', '<pad>', '<pad>', '<pad>', '<pad>', '<pad>', '<pad>', '<pad>', '<pad>', '<pad>', '<pad>', '<pad>', '<pad>', '<pad>', '<pad>', '<pad>', '<pad>', '<pad>', '<pad>', '<pad>', '<pad>', '<pad>', '<pad>', '<pad>', '<pad>', '<pad>', '<pad>', '<pad>', '<pad>', '<pad>', '<pad>', '<pad>', '<pad>', '<pad>', '<pad>', '<pad>', '<pad>', '<pad>', '<pad>', '<pad>', '<pad>', '<pad>', '<pad>', '<pad>', '<pad>', '<pad>', '<pad>', '<pad>', '<pad>', '<pad>', '<pad>', '<pad>', '<pad>', '<pad>', '<pad>', '<pad>', '<pad>', '<pad>', '<pad>', '<pad>', '<pad>', '<pad>', '<pad>', '<pad>', '<pad>', '<pad>', '<pad>', '<pad>', '<pad>', '<pad>', '<pad>', '<pad>', '<pad>', '<pad>', '<pad>', '<pad>', '<pad>', '<pad>', '<pad>', '<pad>', '<pad>', '<pad>', '<pad>', '<pad>', '<pad>', '<pad>', '<pad>', '<pad>', '<pad>', '<pad>', '<pad>', '<pad>', '<pad>', '<pad>', '<pad>', '<pad>', '<pad>', '<pad>', '<pad>', '<pad>', '<pad>', '<pad>', '<pad>', '<pad>', '<pad>', '<pad>', '<pad>', '<pad>', '<pad>', '<pad>', '<pad>', '<pad>', '<pad>', '<pad>', '<pad>', '<pad>', '<pad>', '<pad>', '<pad>', '<pad>', '<pad>', '<pad>', '<pad>', '<pad>', '<pad>', '<pad>', '<pad>', '<pad>', '<pad>', '<pad>', '<pad>', '<pad>', '<pad>', '<pad>', '<pad>', '<pad>', '<pad>', '<pad>', '<pad>', '<pad>', '<pad>', '<pad>', '<pad>', '<pad>', '<pad>', '<pad>', '<pad>', '<pad>', '<pad>', '<pad>', '<pad>', '<pad>', '<pad>', '<pad>', '<pad>', '<pad>', '<pad>', '<pad>', '<pad>', '<pad>', '<pad>', '<pad>', '<pad>', '<pad>', '<pad>', '<pad>', '<pad>']\n"
     ]
    }
   ],
   "source": [
    "# 取出一句评论\n",
    "batch = next(iter(train_iterator))\n",
    "print(batch.text.shape) \n",
    "print([TEXT.vocab.itos[i] for i in batch.text[:,0]])\n",
    "# 可以看到这句话的长度是1077，最后面有很多pad"
   ]
  },
  {
   "cell_type": "code",
   "execution_count": null,
   "metadata": {},
   "outputs": [],
   "source": []
  },
  {
   "cell_type": "markdown",
   "metadata": {},
   "source": [
    "## 第五步：创建Word Averaging模型"
   ]
  },
  {
   "cell_type": "markdown",
   "metadata": {},
   "source": [
    "### Word Averaging模型\n",
    "\n",
    "- 我们首先介绍一个简单的Word Averaging模型。这个模型非常简单，我们把每个单词都通过`Embedding`层投射成word embedding vector，然后把一句话中的所有word vector做个平均，就是整个句子的vector表示了。接下来把这个sentence vector传入一个`Linear`层，做分类即可。\n",
    "\n",
    "![](assets/sentiment8.png)\n",
    "\n",
    "- 我们使用[`avg_pool2d`](https://pytorch.org/docs/stable/nn.html?highlight=avg_pool2d#torch.nn.functional.avg_pool2d)来做average pooling。我们的目标是把sentence length那个维度平均成1，然后保留embedding这个维度。\n",
    "\n",
    "![](assets/sentiment9.png)\n",
    "\n",
    "- `avg_pool2d`的kernel size是 (`embedded.shape[1]`, 1)，所以句子长度的那个维度会被压扁。\n",
    "\n",
    "![](assets/sentiment10.png)\n",
    "\n",
    "![](assets/sentiment11.png)\n"
   ]
  },
  {
   "cell_type": "code",
   "execution_count": 5,
   "metadata": {},
   "outputs": [],
   "source": [
    "import torch.nn as nn\n",
    "import torch.nn.functional as F\n",
    "\n",
    "class WordAVGModel(nn.Module):\n",
    "    def __init__(self, vocab_size, embedding_dim, output_dim, pad_idx):\n",
    "        #初始化参数，\n",
    "        super().__init__()\n",
    "        self.embedding = nn.Embedding(vocab_size, embedding_dim, padding_idx=pad_idx)\n",
    "        #vocab_size=词汇表长度=25002，embedding_dim=每个单词的维度=100\n",
    "        #padding_idx：如果提供的话，这里如果遇到padding的单词就用0填充。\n",
    "        \n",
    "        self.fc = nn.Linear(embedding_dim, output_dim)\n",
    "        #output_dim输出的维度，一个数就可以了，=1\n",
    "        \n",
    "    def forward(self, text):\n",
    "        # text.shape = (seq_len,batch_size)\n",
    "        # text下面会指定，为一个batch的数据，seq_len为一条评论的单词长度\n",
    "        embedded = self.embedding(text) \n",
    "        # embedded = [seq_len, batch_size, embedding_dim] \n",
    "        embedded = embedded.permute(1, 0, 2) \n",
    "        # [batch_size, seq_len, embedding_dim]更换顺序\n",
    "        \n",
    "        pooled = F.avg_pool2d(embedded, (embedded.shape[1], 1)).squeeze(1) \n",
    "        # [batch size, embedding_dim] 把单词长度的维度压扁为1，并降维\n",
    "        \n",
    "        return self.fc(pooled)  \n",
    "        #（batch size, embedding_dim）*（embedding_dim, output_dim）=（batch size,output_dim）"
   ]
  },
  {
   "cell_type": "code",
   "execution_count": 6,
   "metadata": {},
   "outputs": [
    {
     "ename": "AttributeError",
     "evalue": "'Field' object has no attribute 'vocab'",
     "output_type": "error",
     "traceback": [
      "\u001b[0;31m---------------------------------------------------------------------------\u001b[0m",
      "\u001b[0;31mAttributeError\u001b[0m                            Traceback (most recent call last)",
      "\u001b[0;32m<ipython-input-6-d9889c88c56d>\u001b[0m in \u001b[0;36m<module>\u001b[0;34m\u001b[0m\n\u001b[0;32m----> 1\u001b[0;31m \u001b[0mINPUT_DIM\u001b[0m \u001b[0;34m=\u001b[0m \u001b[0mlen\u001b[0m\u001b[0;34m(\u001b[0m\u001b[0mTEXT\u001b[0m\u001b[0;34m.\u001b[0m\u001b[0mvocab\u001b[0m\u001b[0;34m)\u001b[0m \u001b[0;31m#25002\u001b[0m\u001b[0;34m\u001b[0m\u001b[0;34m\u001b[0m\u001b[0m\n\u001b[0m\u001b[1;32m      2\u001b[0m \u001b[0mEMBEDDING_DIM\u001b[0m \u001b[0;34m=\u001b[0m \u001b[0;36m100\u001b[0m\u001b[0;34m\u001b[0m\u001b[0;34m\u001b[0m\u001b[0m\n\u001b[1;32m      3\u001b[0m \u001b[0mOUTPUT_DIM\u001b[0m \u001b[0;34m=\u001b[0m \u001b[0;36m1\u001b[0m \u001b[0;31m# 大于某个值是正，小于是负\u001b[0m\u001b[0;34m\u001b[0m\u001b[0;34m\u001b[0m\u001b[0m\n\u001b[1;32m      4\u001b[0m \u001b[0mPAD_IDX\u001b[0m \u001b[0;34m=\u001b[0m \u001b[0mTEXT\u001b[0m\u001b[0;34m.\u001b[0m\u001b[0mvocab\u001b[0m\u001b[0;34m.\u001b[0m\u001b[0mstoi\u001b[0m\u001b[0;34m[\u001b[0m\u001b[0mTEXT\u001b[0m\u001b[0;34m.\u001b[0m\u001b[0mpad_token\u001b[0m\u001b[0;34m]\u001b[0m\u001b[0;34m\u001b[0m\u001b[0;34m\u001b[0m\u001b[0m\n\u001b[1;32m      5\u001b[0m \u001b[0;31m# TEXT.pad_token = pad\u001b[0m\u001b[0;34m\u001b[0m\u001b[0;34m\u001b[0m\u001b[0;34m\u001b[0m\u001b[0m\n",
      "\u001b[0;31mAttributeError\u001b[0m: 'Field' object has no attribute 'vocab'"
     ]
    }
   ],
   "source": [
    "INPUT_DIM = len(TEXT.vocab) #25002\n",
    "EMBEDDING_DIM = 100\n",
    "OUTPUT_DIM = 1 # 大于某个值是正，小于是负\n",
    "PAD_IDX = TEXT.vocab.stoi[TEXT.pad_token] \n",
    "# TEXT.pad_token = pad\n",
    "# PAD_IDX = 1 为pad的索引\n",
    "\n",
    "model = WordAVGModel(INPUT_DIM, EMBEDDING_DIM, OUTPUT_DIM, PAD_IDX)"
   ]
  },
  {
   "cell_type": "code",
   "execution_count": 16,
   "metadata": {},
   "outputs": [
    {
     "data": {
      "text/plain": [
       "'<pad>'"
      ]
     },
     "execution_count": 16,
     "metadata": {},
     "output_type": "execute_result"
    }
   ],
   "source": [
    "TEXT.pad_token"
   ]
  },
  {
   "cell_type": "code",
   "execution_count": 17,
   "metadata": {},
   "outputs": [
    {
     "name": "stdout",
     "output_type": "stream",
     "text": [
      "The model has 2,500,301 trainable parameters\n"
     ]
    }
   ],
   "source": [
    "def count_parameters(model): #统计参数，可以不用管\n",
    "    return sum(p.numel() for p in model.parameters() if p.requires_grad)\n",
    "\n",
    "print(f'The model has {count_parameters(model):,} trainable parameters')\n",
    "# {}大括号里调用了函数"
   ]
  },
  {
   "cell_type": "markdown",
   "metadata": {},
   "source": [
    "## 第六步：初始化参数"
   ]
  },
  {
   "cell_type": "code",
   "execution_count": 18,
   "metadata": {},
   "outputs": [
    {
     "data": {
      "text/plain": [
       "tensor([[-0.1117, -0.4966,  0.1631,  ...,  1.2647, -0.2753, -0.1325],\n",
       "        [-0.8555, -0.7208,  1.3755,  ...,  0.0825, -1.1314,  0.3997],\n",
       "        [-0.0382, -0.2449,  0.7281,  ..., -0.1459,  0.8278,  0.2706],\n",
       "        ...,\n",
       "        [-0.1419,  0.0282,  0.2185,  ..., -0.1100, -0.1250,  0.0282],\n",
       "        [-0.3326, -0.9215,  0.9239,  ...,  0.5057, -1.2898,  0.1782],\n",
       "        [-0.8304,  0.3732,  0.0726,  ..., -0.0122,  0.2313, -0.2783]])"
      ]
     },
     "execution_count": 18,
     "metadata": {},
     "output_type": "execute_result"
    }
   ],
   "source": [
    "# 把模型参数初始化成glove的向量参数\n",
    "pretrained_embeddings = TEXT.vocab.vectors  # 取出glove embedding词向量的参数\n",
    "model.embedding.weight.data.copy_(pretrained_embeddings) #遇到_的语句直接替换，不需要另外赋值=\n",
    "#把上面vectors=\"glove.6B.100d\"取出的词向量作为初始化参数，数量为25000*100个参数"
   ]
  },
  {
   "cell_type": "code",
   "execution_count": 19,
   "metadata": {},
   "outputs": [],
   "source": [
    "UNK_IDX = TEXT.vocab.stoi[TEXT.unk_token] # UNK_IDX=0\n",
    "\n",
    "model.embedding.weight.data[UNK_IDX] = torch.zeros(EMBEDDING_DIM) #\n",
    "model.embedding.weight.data[PAD_IDX] = torch.zeros(EMBEDDING_DIM)\n",
    "#词汇表25002个单词，前两个unk和pad也需要初始化成EMBEDDING_DIM维的向量"
   ]
  },
  {
   "cell_type": "markdown",
   "metadata": {},
   "source": [
    "## 第七步：训练模型"
   ]
  },
  {
   "cell_type": "code",
   "execution_count": 20,
   "metadata": {},
   "outputs": [],
   "source": [
    "import torch.optim as optim\n",
    "\n",
    "optimizer = optim.Adam(model.parameters()) #定义优化器\n",
    "criterion = nn.BCEWithLogitsLoss()  #定义损失函数，这个BCEWithLogitsLoss特殊情况，二分类损失函数\n",
    "# nn.BCEWithLogitsLoss()看这个：https://blog.csdn.net/qq_22210253/article/details/85222093\n",
    "model = model.to(device) #送到gpu上去\n",
    "criterion = criterion.to(device) #送到gpu上去\n"
   ]
  },
  {
   "cell_type": "markdown",
   "metadata": {},
   "source": [
    "计算预测的准确率"
   ]
  },
  {
   "cell_type": "code",
   "execution_count": 21,
   "metadata": {},
   "outputs": [],
   "source": [
    "def binary_accuracy(preds, y): #计算准确率\n",
    "    \"\"\"\n",
    "    Returns accuracy per batch, i.e. if you get 8/10 right, this returns 0.8, NOT 8\n",
    "    \"\"\"\n",
    "\n",
    "    #round predictions to the closest integer\n",
    "    rounded_preds = torch.round(torch.sigmoid(preds))\n",
    "    #.round函数：四舍五入\n",
    "    \n",
    "    correct = (rounded_preds == y).float() #convert into float for division \n",
    "    acc = correct.sum()/len(correct)\n",
    "    return acc"
   ]
  },
  {
   "cell_type": "code",
   "execution_count": 22,
   "metadata": {},
   "outputs": [],
   "source": [
    "def train(model, iterator, optimizer, criterion):\n",
    "    \n",
    "    \n",
    "    epoch_loss = 0\n",
    "    epoch_acc = 0\n",
    "    total_len = 0\n",
    "    model.train() #model.train()代表了训练模式\n",
    "    #这步一定要加，是为了区分model训练和测试的模式的。\n",
    "    #有时候训练时会用到dropout、归一化等方法，但是测试的时候不能用dropout等方法。\n",
    "    \n",
    "    \n",
    "    \n",
    "    for batch in iterator: #iterator为train_iterator\n",
    "        optimizer.zero_grad() #加这步防止梯度叠加\n",
    "        \n",
    "        predictions = model(batch.text).squeeze(1)\n",
    "        #batch.text 就是上面forward函数的参数text\n",
    "        # squeeze(1)压缩维度，不然跟batch.label维度对不上\n",
    "        \n",
    "        loss = criterion(predictions, batch.label)\n",
    "        acc = binary_accuracy(predictions, batch.label)\n",
    "        # 每次迭代都计算一边准确率\n",
    "        \n",
    "        \n",
    "        loss.backward() #反向传播\n",
    "        optimizer.step() #梯度下降\n",
    "        \n",
    "        epoch_loss += loss.item() * len(batch.label)\n",
    "        #二分类损失函数loss因为已经平均化了，这里需要乘以len(batch.label)，\n",
    "        #得到一个batch的损失，累加得到所有样本损失。\n",
    "        \n",
    "        epoch_acc += acc.item() * len(batch.label)\n",
    "        #（acc.item()：一个batch的正确率） *batch数 = 正确数\n",
    "        # 累加得到所有训练样本正确数。\n",
    "        \n",
    "        total_len += len(batch.label)\n",
    "        #计算train_iterator所有样本的数量，不出意外应该是17500\n",
    "        \n",
    "    return epoch_loss / total_len, epoch_acc / total_len\n",
    "    #epoch_loss / total_len ：train_iterator所有batch的平均损失\n",
    "    #epoch_acc / total_len ：train_iterator所有batch的平均正确率"
   ]
  },
  {
   "cell_type": "code",
   "execution_count": 23,
   "metadata": {},
   "outputs": [],
   "source": [
    "def evaluate(model, iterator, criterion):\n",
    "     \n",
    "    \n",
    "    epoch_loss = 0\n",
    "    epoch_acc = 0\n",
    "    total_len = 0\n",
    "    \n",
    "    model.eval()\n",
    "    #转换成测试模式，冻结dropout层或其他层。\n",
    "    \n",
    "    with torch.no_grad():\n",
    "        for batch in iterator: \n",
    "            #iterator为valid_iterator\n",
    "            \n",
    "            #没有反向传播和梯度下降\n",
    "            predictions = model(batch.text).squeeze(1)\n",
    "            loss = criterion(predictions, batch.label)\n",
    "            acc = binary_accuracy(predictions, batch.label)\n",
    "            \n",
    "            \n",
    "            epoch_loss += loss.item() * len(batch.label)\n",
    "            epoch_acc += acc.item() * len(batch.label)\n",
    "            total_len += len(batch.label)\n",
    "    model.train() #调回训练模式   \n",
    "    \n",
    "    return epoch_loss / total_len, epoch_acc / total_len"
   ]
  },
  {
   "cell_type": "code",
   "execution_count": 24,
   "metadata": {},
   "outputs": [],
   "source": [
    "import time \n",
    "\n",
    "def epoch_time(start_time, end_time):  #查看每个epoch的时间\n",
    "    elapsed_time = end_time - start_time\n",
    "    elapsed_mins = int(elapsed_time / 60)\n",
    "    elapsed_secs = int(elapsed_time - (elapsed_mins * 60))\n",
    "    return elapsed_mins, elapsed_secs"
   ]
  },
  {
   "cell_type": "markdown",
   "metadata": {},
   "source": [
    "## 第八步：查看模型运行结果"
   ]
  },
  {
   "cell_type": "code",
   "execution_count": 25,
   "metadata": {
    "scrolled": true
   },
   "outputs": [
    {
     "name": "stdout",
     "output_type": "stream",
     "text": [
      "Epoch: 01 | Epoch Time: 0m 5s\n",
      "\tTrain Loss: 0.684 | Train Acc: 58.78%\n",
      "\t Val. Loss: 0.617 |  Val. Acc: 72.51%\n",
      "Epoch: 02 | Epoch Time: 0m 5s\n",
      "\tTrain Loss: 0.642 | Train Acc: 72.62%\n",
      "\t Val. Loss: 0.504 |  Val. Acc: 76.65%\n",
      "Epoch: 03 | Epoch Time: 0m 5s\n",
      "\tTrain Loss: 0.569 | Train Acc: 78.81%\n",
      "\t Val. Loss: 0.439 |  Val. Acc: 81.07%\n",
      "Epoch: 04 | Epoch Time: 0m 5s\n",
      "\tTrain Loss: 0.497 | Train Acc: 82.97%\n",
      "\t Val. Loss: 0.404 |  Val. Acc: 84.03%\n",
      "Epoch: 05 | Epoch Time: 0m 5s\n",
      "\tTrain Loss: 0.435 | Train Acc: 85.95%\n",
      "\t Val. Loss: 0.400 |  Val. Acc: 85.69%\n",
      "Epoch: 06 | Epoch Time: 0m 5s\n",
      "\tTrain Loss: 0.388 | Train Acc: 87.73%\n",
      "\t Val. Loss: 0.412 |  Val. Acc: 86.80%\n",
      "Epoch: 07 | Epoch Time: 0m 5s\n",
      "\tTrain Loss: 0.349 | Train Acc: 88.83%\n",
      "\t Val. Loss: 0.425 |  Val. Acc: 87.64%\n",
      "Epoch: 08 | Epoch Time: 0m 5s\n",
      "\tTrain Loss: 0.319 | Train Acc: 89.84%\n",
      "\t Val. Loss: 0.446 |  Val. Acc: 87.83%\n",
      "Epoch: 09 | Epoch Time: 0m 5s\n",
      "\tTrain Loss: 0.293 | Train Acc: 90.54%\n",
      "\t Val. Loss: 0.464 |  Val. Acc: 88.25%\n",
      "Epoch: 10 | Epoch Time: 0m 5s\n",
      "\tTrain Loss: 0.272 | Train Acc: 91.19%\n",
      "\t Val. Loss: 0.480 |  Val. Acc: 88.68%\n",
      "Epoch: 11 | Epoch Time: 0m 5s\n",
      "\tTrain Loss: 0.254 | Train Acc: 91.82%\n",
      "\t Val. Loss: 0.498 |  Val. Acc: 88.87%\n",
      "Epoch: 12 | Epoch Time: 0m 5s\n",
      "\tTrain Loss: 0.238 | Train Acc: 92.53%\n",
      "\t Val. Loss: 0.517 |  Val. Acc: 89.01%\n",
      "Epoch: 13 | Epoch Time: 0m 5s\n",
      "\tTrain Loss: 0.222 | Train Acc: 93.03%\n",
      "\t Val. Loss: 0.532 |  Val. Acc: 89.25%\n",
      "Epoch: 14 | Epoch Time: 0m 5s\n",
      "\tTrain Loss: 0.210 | Train Acc: 93.47%\n",
      "\t Val. Loss: 0.547 |  Val. Acc: 89.44%\n",
      "Epoch: 15 | Epoch Time: 0m 5s\n",
      "\tTrain Loss: 0.198 | Train Acc: 93.95%\n",
      "\t Val. Loss: 0.564 |  Val. Acc: 89.49%\n",
      "Epoch: 16 | Epoch Time: 0m 5s\n",
      "\tTrain Loss: 0.186 | Train Acc: 94.31%\n",
      "\t Val. Loss: 0.582 |  Val. Acc: 89.68%\n",
      "Epoch: 17 | Epoch Time: 0m 5s\n",
      "\tTrain Loss: 0.175 | Train Acc: 94.74%\n",
      "\t Val. Loss: 0.596 |  Val. Acc: 89.69%\n",
      "Epoch: 18 | Epoch Time: 0m 5s\n",
      "\tTrain Loss: 0.166 | Train Acc: 95.09%\n",
      "\t Val. Loss: 0.615 |  Val. Acc: 89.95%\n",
      "Epoch: 19 | Epoch Time: 0m 5s\n",
      "\tTrain Loss: 0.156 | Train Acc: 95.36%\n",
      "\t Val. Loss: 0.631 |  Val. Acc: 89.91%\n",
      "Epoch: 20 | Epoch Time: 0m 5s\n",
      "\tTrain Loss: 0.147 | Train Acc: 95.75%\n",
      "\t Val. Loss: 0.647 |  Val. Acc: 90.07%\n"
     ]
    }
   ],
   "source": [
    "# 同上，这里用的kaggleGPU跑的，花了2分钟。\n",
    "N_EPOCHS = 20\n",
    "\n",
    "best_valid_loss = float('inf') #无穷大\n",
    "\n",
    "for epoch in range(N_EPOCHS):\n",
    "\n",
    "    start_time = time.time()\n",
    "    \n",
    "    train_loss, train_acc = train(model, train_iterator, optimizer, criterion)\n",
    "    # 得到训练集每个epoch的平均损失和准确率\n",
    "    valid_loss, valid_acc = evaluate(model, valid_iterator, criterion)\n",
    "    # 得到验证集每个epoch的平均损失和准确率，这个model里传入的参数是训练完的参数\n",
    "    \n",
    "    end_time = time.time()\n",
    "\n",
    "    epoch_mins, epoch_secs = epoch_time(start_time, end_time)\n",
    "    \n",
    "    if valid_loss < best_valid_loss: #只要模型效果变好，就存模型\n",
    "        best_valid_loss = valid_loss\n",
    "        torch.save(model.state_dict(), 'wordavg-model.pt')\n",
    "    \n",
    "    print(f'Epoch: {epoch+1:02} | Epoch Time: {epoch_mins}m {epoch_secs}s')\n",
    "    print(f'\\tTrain Loss: {train_loss:.3f} | Train Acc: {train_acc*100:.2f}%')\n",
    "    print(f'\\t Val. Loss: {valid_loss:.3f} |  Val. Acc: {valid_acc*100:.2f}%')"
   ]
  },
  {
   "cell_type": "markdown",
   "metadata": {},
   "source": [
    "## 第九步：预测结果"
   ]
  },
  {
   "cell_type": "code",
   "execution_count": 26,
   "metadata": {},
   "outputs": [
    {
     "name": "stdout",
     "output_type": "stream",
     "text": [
      "__notebook_source__.ipynb  wordavg-model.pt\r\n"
     ]
    }
   ],
   "source": [
    "!ls"
   ]
  },
  {
   "cell_type": "code",
   "execution_count": 55,
   "metadata": {},
   "outputs": [
    {
     "data": {
      "text/html": [
       "<a href=wordavg-model.pt>Download model file</a>"
      ],
      "text/plain": [
       "<IPython.core.display.HTML object>"
      ]
     },
     "execution_count": 55,
     "metadata": {},
     "output_type": "execute_result"
    }
   ],
   "source": [
    "# kaggle上下载模型文件到本地，运行下面代码，点击输出的链接就行\n",
    "from IPython.display import HTML\n",
    "import pandas as pd\n",
    "import numpy as np\n",
    "\n",
    "def create_download_link(title = \"Download model file\", filename = \"CNN-model.pt\"):  \n",
    "    html = '<a href={filename}>{title}</a>'\n",
    "    html = html.format(title=title,filename=filename)\n",
    "    return HTML(html)\n",
    "\n",
    "# create a link to download the dataframe which was saved with .to_csv method\n",
    "create_download_link(filename='wordavg-model.pt')"
   ]
  },
  {
   "cell_type": "code",
   "execution_count": 1,
   "metadata": {},
   "outputs": [
    {
     "ename": "NameError",
     "evalue": "name 'model' is not defined",
     "output_type": "error",
     "traceback": [
      "\u001b[0;31m---------------------------------------------------------------------------\u001b[0m",
      "\u001b[0;31mNameError\u001b[0m                                 Traceback (most recent call last)",
      "\u001b[0;32m<ipython-input-1-f795a3e78d6a>\u001b[0m in \u001b[0;36m<module>\u001b[0;34m\u001b[0m\n\u001b[0;32m----> 1\u001b[0;31m \u001b[0mmodel\u001b[0m\u001b[0;34m.\u001b[0m\u001b[0mload_state_dict\u001b[0m\u001b[0;34m(\u001b[0m\u001b[0mtorch\u001b[0m\u001b[0;34m.\u001b[0m\u001b[0mload\u001b[0m\u001b[0;34m(\u001b[0m\u001b[0;34m\"wordavg-model.pt\"\u001b[0m\u001b[0;34m)\u001b[0m\u001b[0;34m)\u001b[0m\u001b[0;34m\u001b[0m\u001b[0;34m\u001b[0m\u001b[0m\n\u001b[0m\u001b[1;32m      2\u001b[0m \u001b[0;31m#用保存的模型参数预测数据\u001b[0m\u001b[0;34m\u001b[0m\u001b[0;34m\u001b[0m\u001b[0;34m\u001b[0m\u001b[0m\n",
      "\u001b[0;31mNameError\u001b[0m: name 'model' is not defined"
     ]
    }
   ],
   "source": [
    "model.load_state_dict(torch.load(\"wordavg-model.pt\"))\n",
    "#用保存的模型参数预测数据"
   ]
  },
  {
   "cell_type": "code",
   "execution_count": 28,
   "metadata": {},
   "outputs": [],
   "source": [
    "import spacy  #分词工具，跟NLTK类似\n",
    "nlp = spacy.load('en') \n",
    "\n",
    "def predict_sentiment(sentence): # 传入预测的句子I love This film bad \n",
    "    tokenized = [tok.text for tok in nlp.tokenizer(sentence)] #分词\n",
    "    # print(tokenized) = ['I', 'love', 'This', 'film', 'bad']\n",
    "    indexed = [TEXT.vocab.stoi[t] for t in tokenized] \n",
    "    #sentence的在25002中的索引\n",
    "    \n",
    "    tensor = torch.LongTensor(indexed).to(device) #seq_len\n",
    "    # 所有词向量都应该变成LongTensor\n",
    "    \n",
    "    tensor = tensor.unsqueeze(1) \n",
    "    #模型的输入是默认有batch_size的,需要升维，seq_len * batch_size（1）\n",
    "    \n",
    "    prediction = torch.sigmoid(model(tensor))\n",
    "    # 预测准确率，在0，1之间，需要sigmoid下\n",
    "    \n",
    "    return prediction.item()\n"
   ]
  },
  {
   "cell_type": "code",
   "execution_count": 29,
   "metadata": {},
   "outputs": [
    {
     "data": {
      "text/plain": [
       "0.9373546242713928"
      ]
     },
     "execution_count": 29,
     "metadata": {},
     "output_type": "execute_result"
    }
   ],
   "source": [
    "predict_sentiment(\"I love This film bad\")"
   ]
  },
  {
   "cell_type": "code",
   "execution_count": 30,
   "metadata": {},
   "outputs": [
    {
     "data": {
      "text/plain": [
       "1.0"
      ]
     },
     "execution_count": 30,
     "metadata": {},
     "output_type": "execute_result"
    }
   ],
   "source": [
    "predict_sentiment(\"This film is great\")"
   ]
  },
  {
   "cell_type": "markdown",
   "metadata": {},
   "source": [
    "## RNN模型\n",
    "\n",
    "- 下面我们尝试把模型换成一个**recurrent neural network** (RNN)。RNN经常会被用来encode一个sequence\n",
    "$$h_t = \\text{RNN}(x_t, h_{t-1})$$\n",
    "- 我们使用最后一个hidden state $h_T$来表示整个句子。\n",
    "- 然后我们把$h_T$通过一个线性变换$f$，然后用来预测句子的情感。\n",
    "\n",
    "![](assets/sentiment1.png)\n",
    "\n",
    "![](assets/sentiment7.png)"
   ]
  },
  {
   "cell_type": "code",
   "execution_count": null,
   "metadata": {},
   "outputs": [],
   "source": []
  },
  {
   "attachments": {
    "image.png": {
     "image/png": "[encoded data removed]"
    }
   },
   "cell_type": "markdown",
   "metadata": {},
   "source": [
    "双向RNN网络\n",
    "![image.png](attachment:image.png)"
   ]
  },
  {
   "cell_type": "markdown",
   "metadata": {},
   "source": []
  },
  {
   "cell_type": "code",
   "execution_count": 32,
   "metadata": {},
   "outputs": [],
   "source": [
    "class RNN(nn.Module):\n",
    "    def __init__(self, vocab_size, embedding_dim, hidden_dim, output_dim, \n",
    "                 n_layers, bidirectional, dropout, pad_idx):\n",
    "        super().__init__()\n",
    "        self.embedding = nn.Embedding(vocab_size, embedding_dim, padding_idx=pad_idx)\n",
    "        self.rnn = nn.LSTM(embedding_dim, hidden_dim, num_layers=n_layers, \n",
    "                           bidirectional=bidirectional, dropout=dropout)\n",
    "        #embedding_dim：每个单词维度\n",
    "        #hidden_dim：隐藏层维度\n",
    "        #num_layers：神经网络深度，纵向深度\n",
    "        #bidirectional：是否双向循环RNN\n",
    "        #这个自己先得理解LSTM各个维度，不然容易晕，双向RNN网络图示看上面，可以借鉴下\n",
    "        \n",
    "        \n",
    "        self.fc = nn.Linear(hidden_dim*2, output_dim)\n",
    "        # 这里hidden_dim乘以2是因为是双向，需要拼接两个方向，跟n_layers的层数无关。\n",
    "\n",
    "        self.dropout = nn.Dropout(dropout)\n",
    "        \n",
    "    def forward(self, text):\n",
    "        # text.shape=[seq_len, batch_size]\n",
    "        embedded = self.dropout(self.embedding(text)) #[seq_len, batch_size, emb_dim]\n",
    "        output, (hidden, cell) = self.rnn(embedded)\n",
    "        # output = [seq_len, batch size, hid_dim * num directions]\n",
    "        # hidden = [num layers * num directions, batch_size, hid_dim]\n",
    "        # cell = [num layers * num directions, batch_size, hid_dim]\n",
    "        # 这里的num layers * num directions可以看上面图，上面图除掉输入输出层只有两层双向网络。\n",
    "        # num layers = 2表示需要纵向上在加两层双向，总共有4层神经元。\n",
    "        # 对于LSTM模型的任意一个时间序列t，h层的输出维度\n",
    "        \n",
    "        \n",
    "        #concat the final forward (hidden[-2,:,:]) and backward (hidden[-1,:,:]) hidden layers\n",
    "        #and apply dropout\n",
    "        hidden = self.dropout(torch.cat((hidden[-2,:,:], hidden[-1,:,:]), dim=1)) \n",
    "        # hidden = [batch size, hid dim * num directions]，\n",
    "        # 看下上面图示，最后前向和后向输出的隐藏层会concat到输出层，4层神经元最后两层作为最终的输出。\n",
    "        # 这里因为我们只需要得到最后一个时间序列的输出，所以最终输出的hidden跟seq_len无关。\n",
    "        \n",
    "        return self.fc(hidden.squeeze(0)) # 在接一个全连接层，最终输出[batch size, output_dim]"
   ]
  },
  {
   "cell_type": "code",
   "execution_count": null,
   "metadata": {},
   "outputs": [],
   "source": []
  },
  {
   "cell_type": "code",
   "execution_count": 36,
   "metadata": {},
   "outputs": [
    {
     "data": {
      "text/plain": [
       "RNN(\n",
       "  (embedding): Embedding(25002, 100, padding_idx=1)\n",
       "  (rnn): LSTM(100, 256, num_layers=2, dropout=0.5, bidirectional=True)\n",
       "  (fc): Linear(in_features=512, out_features=1, bias=True)\n",
       "  (dropout): Dropout(p=0.5)\n",
       ")"
      ]
     },
     "execution_count": 36,
     "metadata": {},
     "output_type": "execute_result"
    }
   ],
   "source": [
    "INPUT_DIM = len(TEXT.vocab)\n",
    "EMBEDDING_DIM = 100\n",
    "HIDDEN_DIM = 256\n",
    "OUTPUT_DIM = 1\n",
    "N_LAYERS = 2\n",
    "BIDIRECTIONAL = True\n",
    "DROPOUT = 0.5\n",
    "PAD_IDX = TEXT.vocab.stoi[TEXT.pad_token]\n",
    "\n",
    "model = RNN(INPUT_DIM, EMBEDDING_DIM, HIDDEN_DIM, OUTPUT_DIM, \n",
    "            N_LAYERS, BIDIRECTIONAL, DROPOUT, PAD_IDX)\n",
    "model"
   ]
  },
  {
   "cell_type": "code",
   "execution_count": 34,
   "metadata": {},
   "outputs": [
    {
     "name": "stdout",
     "output_type": "stream",
     "text": [
      "The model has 4,810,857 trainable parameters\n"
     ]
    }
   ],
   "source": [
    "print(f'The model has {count_parameters(model):,} trainable parameters')\n",
    "# 比averge model模型多了一倍的参数"
   ]
  },
  {
   "cell_type": "code",
   "execution_count": 37,
   "metadata": {},
   "outputs": [
    {
     "name": "stdout",
     "output_type": "stream",
     "text": [
      "tensor([[ 0.0000,  0.0000,  0.0000,  ...,  0.0000,  0.0000,  0.0000],\n",
      "        [ 0.0000,  0.0000,  0.0000,  ...,  0.0000,  0.0000,  0.0000],\n",
      "        [-0.0382, -0.2449,  0.7281,  ..., -0.1459,  0.8278,  0.2706],\n",
      "        ...,\n",
      "        [-0.1419,  0.0282,  0.2185,  ..., -0.1100, -0.1250,  0.0282],\n",
      "        [-0.3326, -0.9215,  0.9239,  ...,  0.5057, -1.2898,  0.1782],\n",
      "        [-0.8304,  0.3732,  0.0726,  ..., -0.0122,  0.2313, -0.2783]])\n"
     ]
    }
   ],
   "source": [
    "# 同上初始化\n",
    "model.embedding.weight.data.copy_(pretrained_embeddings)\n",
    "UNK_IDX = TEXT.vocab.stoi[TEXT.unk_token]\n",
    "\n",
    "model.embedding.weight.data[UNK_IDX] = torch.zeros(EMBEDDING_DIM)\n",
    "model.embedding.weight.data[PAD_IDX] = torch.zeros(EMBEDDING_DIM)\n",
    "\n",
    "print(model.embedding.weight.data)"
   ]
  },
  {
   "cell_type": "markdown",
   "metadata": {},
   "source": [
    "## 训练RNN模型"
   ]
  },
  {
   "cell_type": "code",
   "execution_count": 38,
   "metadata": {},
   "outputs": [],
   "source": [
    "optimizer = optim.Adam(model.parameters())\n",
    "model = model.to(device)"
   ]
  },
  {
   "cell_type": "code",
   "execution_count": 39,
   "metadata": {},
   "outputs": [
    {
     "name": "stdout",
     "output_type": "stream",
     "text": [
      "Epoch: 01 | Epoch Time: 2m 1s\n",
      "\tTrain Loss: 0.667 | Train Acc: 59.09%\n",
      "\t Val. Loss: 0.633 |  Val. Acc: 64.67%\n",
      "Epoch: 02 | Epoch Time: 2m 1s\n",
      "\tTrain Loss: 0.663 | Train Acc: 60.33%\n",
      "\t Val. Loss: 0.669 |  Val. Acc: 69.21%\n",
      "Epoch: 03 | Epoch Time: 2m 2s\n",
      "\tTrain Loss: 0.650 | Train Acc: 61.06%\n",
      "\t Val. Loss: 0.579 |  Val. Acc: 70.55%\n",
      "Epoch: 04 | Epoch Time: 2m 2s\n",
      "\tTrain Loss: 0.493 | Train Acc: 77.43%\n",
      "\t Val. Loss: 0.382 |  Val. Acc: 83.43%\n",
      "Epoch: 05 | Epoch Time: 2m 2s\n",
      "\tTrain Loss: 0.394 | Train Acc: 83.71%\n",
      "\t Val. Loss: 0.338 |  Val. Acc: 85.97%\n",
      "Epoch: 06 | Epoch Time: 2m 3s\n",
      "\tTrain Loss: 0.338 | Train Acc: 86.26%\n",
      "\t Val. Loss: 0.309 |  Val. Acc: 87.21%\n",
      "Epoch: 07 | Epoch Time: 2m 2s\n",
      "\tTrain Loss: 0.292 | Train Acc: 88.37%\n",
      "\t Val. Loss: 0.295 |  Val. Acc: 88.73%\n",
      "Epoch: 08 | Epoch Time: 2m 3s\n",
      "\tTrain Loss: 0.252 | Train Acc: 90.26%\n",
      "\t Val. Loss: 0.300 |  Val. Acc: 89.31%\n",
      "Epoch: 09 | Epoch Time: 2m 2s\n",
      "\tTrain Loss: 0.246 | Train Acc: 90.51%\n",
      "\t Val. Loss: 0.282 |  Val. Acc: 88.76%\n",
      "Epoch: 10 | Epoch Time: 2m 3s\n",
      "\tTrain Loss: 0.205 | Train Acc: 92.37%\n",
      "\t Val. Loss: 0.295 |  Val. Acc: 88.31%\n",
      "Epoch: 11 | Epoch Time: 2m 1s\n",
      "\tTrain Loss: 0.203 | Train Acc: 92.46%\n",
      "\t Val. Loss: 0.289 |  Val. Acc: 89.25%\n",
      "Epoch: 12 | Epoch Time: 2m 3s\n",
      "\tTrain Loss: 0.178 | Train Acc: 93.58%\n",
      "\t Val. Loss: 0.301 |  Val. Acc: 89.41%\n",
      "Epoch: 13 | Epoch Time: 2m 3s\n",
      "\tTrain Loss: 0.158 | Train Acc: 94.43%\n",
      "\t Val. Loss: 0.301 |  Val. Acc: 89.51%\n",
      "Epoch: 14 | Epoch Time: 2m 2s\n",
      "\tTrain Loss: 0.158 | Train Acc: 94.63%\n",
      "\t Val. Loss: 0.289 |  Val. Acc: 89.95%\n",
      "Epoch: 15 | Epoch Time: 2m 2s\n",
      "\tTrain Loss: 0.142 | Train Acc: 95.00%\n",
      "\t Val. Loss: 0.314 |  Val. Acc: 89.59%\n",
      "Epoch: 16 | Epoch Time: 2m 2s\n",
      "\tTrain Loss: 0.123 | Train Acc: 95.62%\n",
      "\t Val. Loss: 0.329 |  Val. Acc: 89.99%\n",
      "Epoch: 17 | Epoch Time: 2m 4s\n",
      "\tTrain Loss: 0.107 | Train Acc: 96.16%\n",
      "\t Val. Loss: 0.325 |  Val. Acc: 89.75%\n",
      "Epoch: 18 | Epoch Time: 2m 4s\n",
      "\tTrain Loss: 0.100 | Train Acc: 96.66%\n",
      "\t Val. Loss: 0.341 |  Val. Acc: 89.49%\n",
      "Epoch: 19 | Epoch Time: 2m 3s\n",
      "\tTrain Loss: 0.096 | Train Acc: 96.63%\n",
      "\t Val. Loss: 0.340 |  Val. Acc: 89.79%\n",
      "Epoch: 20 | Epoch Time: 2m 3s\n",
      "\tTrain Loss: 0.080 | Train Acc: 97.31%\n",
      "\t Val. Loss: 0.380 |  Val. Acc: 89.83%\n"
     ]
    }
   ],
   "source": [
    "# 同上，这里用的kaggleGPU跑的，花了40分钟。\n",
    "N_EPOCHS = 20\n",
    "best_valid_loss = float('inf')\n",
    "for epoch in range(N_EPOCHS):\n",
    "    start_time = time.time()\n",
    "    train_loss, train_acc = train(model, train_iterator, optimizer, criterion)\n",
    "    valid_loss, valid_acc = evaluate(model, valid_iterator, criterion)\n",
    "    \n",
    "    end_time = time.time()\n",
    "\n",
    "    epoch_mins, epoch_secs = epoch_time(start_time, end_time)\n",
    "    \n",
    "    if valid_loss < best_valid_loss:\n",
    "        best_valid_loss = valid_loss\n",
    "        torch.save(model.state_dict(), 'lstm-model.pt')\n",
    "    \n",
    "    print(f'Epoch: {epoch+1:02} | Epoch Time: {epoch_mins}m {epoch_secs}s')\n",
    "    print(f'\\tTrain Loss: {train_loss:.3f} | Train Acc: {train_acc*100:.2f}%')\n",
    "    print(f'\\t Val. Loss: {valid_loss:.3f} |  Val. Acc: {valid_acc*100:.2f}%')"
   ]
  },
  {
   "cell_type": "markdown",
   "metadata": {},
   "source": [
    "You may have noticed the loss is not really decreasing and the accuracy is poor. This is due to several issues with the model which we'll improve in the next notebook.\n",
    "\n",
    "Finally, the metric we actually care about, the test loss and accuracy, which we get from our parameters that gave us the best validation loss."
   ]
  },
  {
   "cell_type": "code",
   "execution_count": 40,
   "metadata": {},
   "outputs": [
    {
     "data": {
      "text/html": [
       "<a href=lstm-model.pt>Download model file</a>"
      ],
      "text/plain": [
       "<IPython.core.display.HTML object>"
      ]
     },
     "execution_count": 40,
     "metadata": {},
     "output_type": "execute_result"
    }
   ],
   "source": [
    "# 下载文件到本地\n",
    "from IPython.display import HTML\n",
    "import pandas as pd\n",
    "import numpy as np\n",
    "\n",
    "def create_download_link(title = \"Download model file\", filename = \"wordavg-model.pt\"):  \n",
    "    html = '<a href={filename}>{title}</a>'\n",
    "    html = html.format(title=title,filename=filename)\n",
    "    return HTML(html)\n",
    "\n",
    "# create a link to download the dataframe which was saved with .to_csv method\n",
    "create_download_link(filename='lstm-model.pt')"
   ]
  },
  {
   "cell_type": "code",
   "execution_count": 41,
   "metadata": {},
   "outputs": [
    {
     "name": "stdout",
     "output_type": "stream",
     "text": [
      "Test Loss: 0.304 | Test Acc: 88.11%\n"
     ]
    }
   ],
   "source": [
    "model.load_state_dict(torch.load('lstm-model.pt'))\n",
    "test_loss, test_acc = evaluate(model, test_iterator, criterion)\n",
    "print(f'Test Loss: {test_loss:.3f} | Test Acc: {test_acc*100:.2f}%')"
   ]
  },
  {
   "cell_type": "code",
   "execution_count": 44,
   "metadata": {},
   "outputs": [
    {
     "data": {
      "text/plain": [
       "0.3637591600418091"
      ]
     },
     "execution_count": 44,
     "metadata": {},
     "output_type": "execute_result"
    }
   ],
   "source": [
    "predict_sentiment(\"I feel This film bad\")"
   ]
  },
  {
   "cell_type": "code",
   "execution_count": 43,
   "metadata": {},
   "outputs": [
    {
     "data": {
      "text/plain": [
       "0.9947803020477295"
      ]
     },
     "execution_count": 43,
     "metadata": {},
     "output_type": "execute_result"
    }
   ],
   "source": [
    "predict_sentiment(\"This film is great\")"
   ]
  },
  {
   "cell_type": "markdown",
   "metadata": {},
   "source": [
    "## CNN模型"
   ]
  },
  {
   "cell_type": "code",
   "execution_count": 45,
   "metadata": {},
   "outputs": [],
   "source": [
    "class CNN(nn.Module):\n",
    "    def __init__(self, vocab_size, embedding_dim, n_filters, \n",
    "                 filter_sizes, output_dim, dropout, pad_idx):\n",
    "        super().__init__()\n",
    "        \n",
    "        self.embedding = nn.Embedding(vocab_size, embedding_dim, padding_idx=pad_idx)\n",
    "        self.convs = nn.ModuleList([\n",
    "                                    nn.Conv2d(in_channels = 1, out_channels = n_filters, \n",
    "                                              kernel_size = (fs, embedding_dim)) \n",
    "                                    for fs in filter_sizes\n",
    "                                    ])\n",
    "        # in_channels：输入的channel，文字都是1\n",
    "        # out_channels：输出的channel维度\n",
    "        # fs：每次滑动窗口计算用到几个单词\n",
    "        # for fs in filter_sizes打算用好几个卷积模型最后concate起来看效果。\n",
    "        \n",
    "        self.fc = nn.Linear(len(filter_sizes) * n_filters, output_dim)\n",
    "        self.dropout = nn.Dropout(dropout)\n",
    "        \n",
    "    def forward(self, text):\n",
    "        text = text.permute(1, 0) # [batch size, sent len]\n",
    "        embedded = self.embedding(text) # [batch size, sent len, emb dim]\n",
    "        embedded = embedded.unsqueeze(1) # [batch size, 1, sent len, emb dim]\n",
    "        # 升维是为了和nn.Conv2d的输入维度吻合，把channel列升维。\n",
    "        conved = [F.relu(conv(embedded)).squeeze(3) for conv in self.convs]\n",
    "        # conved = [batch size, n_filters, sent len - filter_sizes+1]\n",
    "        # 有几个filter_sizes就有几个conved\n",
    "    \n",
    "        \n",
    "        pooled = [F.max_pool1d(conv, conv.shape[2]).squeeze(2) for conv in conved]\n",
    "        # 把conv的第三个维度最大池化了\n",
    "        #pooled_n = [batch size, n_filters]\n",
    "        \n",
    "        cat = self.dropout(torch.cat(pooled, dim=1))\n",
    "        # cat = [batch size, n_filters * len(filter_sizes)]\n",
    "        # 把 len(filter_sizes)个卷积模型concate起来传到全连接层。\n",
    "            \n",
    "        return self.fc(cat)"
   ]
  },
  {
   "cell_type": "code",
   "execution_count": 47,
   "metadata": {},
   "outputs": [
    {
     "name": "stdout",
     "output_type": "stream",
     "text": [
      "The model has 2,620,801 trainable parameters\n"
     ]
    }
   ],
   "source": [
    "# 同上\n",
    "INPUT_DIM = len(TEXT.vocab)\n",
    "EMBEDDING_DIM = 100\n",
    "N_FILTERS = 100\n",
    "FILTER_SIZES = [3,4,5]\n",
    "OUTPUT_DIM = 1\n",
    "DROPOUT = 0.5\n",
    "PAD_IDX = TEXT.vocab.stoi[TEXT.pad_token]\n",
    "\n",
    "\n",
    "model = CNN(INPUT_DIM, EMBEDDING_DIM, N_FILTERS, FILTER_SIZES, OUTPUT_DIM, DROPOUT, PAD_IDX)\n",
    "model.embedding.weight.data.copy_(pretrained_embeddings)\n",
    "UNK_IDX = TEXT.vocab.stoi[TEXT.unk_token]\n",
    "\n",
    "model.embedding.weight.data[UNK_IDX] = torch.zeros(EMBEDDING_DIM)\n",
    "model.embedding.weight.data[PAD_IDX] = torch.zeros(EMBEDDING_DIM)\n",
    "model = model.to(device)\n",
    "print(f'The model has {count_parameters(model):,} trainable parameters')\n",
    "# 比averge model模型参数差不多"
   ]
  },
  {
   "cell_type": "code",
   "execution_count": 48,
   "metadata": {},
   "outputs": [
    {
     "name": "stdout",
     "output_type": "stream",
     "text": [
      "Epoch: 01 | Epoch Time: 0m 19s\n",
      "\tTrain Loss: 0.652 | Train Acc: 61.81%\n",
      "\t Val. Loss: 0.527 |  Val. Acc: 76.20%\n",
      "Epoch: 02 | Epoch Time: 0m 19s\n",
      "\tTrain Loss: 0.427 | Train Acc: 80.66%\n",
      "\t Val. Loss: 0.358 |  Val. Acc: 84.36%\n",
      "Epoch: 03 | Epoch Time: 0m 19s\n",
      "\tTrain Loss: 0.304 | Train Acc: 87.14%\n",
      "\t Val. Loss: 0.318 |  Val. Acc: 86.45%\n",
      "Epoch: 04 | Epoch Time: 0m 19s\n",
      "\tTrain Loss: 0.215 | Train Acc: 91.42%\n",
      "\t Val. Loss: 0.313 |  Val. Acc: 86.92%\n",
      "Epoch: 05 | Epoch Time: 0m 19s\n",
      "\tTrain Loss: 0.156 | Train Acc: 94.18%\n",
      "\t Val. Loss: 0.326 |  Val. Acc: 87.01%\n",
      "Epoch: 06 | Epoch Time: 0m 19s\n",
      "\tTrain Loss: 0.105 | Train Acc: 96.33%\n",
      "\t Val. Loss: 0.344 |  Val. Acc: 87.16%\n",
      "Epoch: 07 | Epoch Time: 0m 19s\n",
      "\tTrain Loss: 0.075 | Train Acc: 97.61%\n",
      "\t Val. Loss: 0.372 |  Val. Acc: 87.28%\n",
      "Epoch: 08 | Epoch Time: 0m 19s\n",
      "\tTrain Loss: 0.052 | Train Acc: 98.39%\n",
      "\t Val. Loss: 0.403 |  Val. Acc: 87.21%\n",
      "Epoch: 09 | Epoch Time: 0m 19s\n",
      "\tTrain Loss: 0.041 | Train Acc: 98.64%\n",
      "\t Val. Loss: 0.433 |  Val. Acc: 87.09%\n",
      "Epoch: 10 | Epoch Time: 0m 19s\n",
      "\tTrain Loss: 0.031 | Train Acc: 99.10%\n",
      "\t Val. Loss: 0.462 |  Val. Acc: 87.01%\n",
      "Epoch: 11 | Epoch Time: 0m 19s\n",
      "\tTrain Loss: 0.023 | Train Acc: 99.29%\n",
      "\t Val. Loss: 0.495 |  Val. Acc: 86.93%\n",
      "Epoch: 12 | Epoch Time: 0m 19s\n",
      "\tTrain Loss: 0.021 | Train Acc: 99.34%\n",
      "\t Val. Loss: 0.530 |  Val. Acc: 86.84%\n",
      "Epoch: 13 | Epoch Time: 0m 19s\n",
      "\tTrain Loss: 0.015 | Train Acc: 99.60%\n",
      "\t Val. Loss: 0.559 |  Val. Acc: 86.73%\n",
      "Epoch: 14 | Epoch Time: 0m 19s\n",
      "\tTrain Loss: 0.013 | Train Acc: 99.69%\n",
      "\t Val. Loss: 0.597 |  Val. Acc: 86.48%\n",
      "Epoch: 15 | Epoch Time: 0m 19s\n",
      "\tTrain Loss: 0.012 | Train Acc: 99.70%\n",
      "\t Val. Loss: 0.608 |  Val. Acc: 86.63%\n",
      "Epoch: 16 | Epoch Time: 0m 19s\n",
      "\tTrain Loss: 0.009 | Train Acc: 99.76%\n",
      "\t Val. Loss: 0.640 |  Val. Acc: 86.77%\n",
      "Epoch: 17 | Epoch Time: 0m 19s\n",
      "\tTrain Loss: 0.010 | Train Acc: 99.73%\n",
      "\t Val. Loss: 0.674 |  Val. Acc: 86.51%\n",
      "Epoch: 18 | Epoch Time: 0m 19s\n",
      "\tTrain Loss: 0.012 | Train Acc: 99.63%\n",
      "\t Val. Loss: 0.704 |  Val. Acc: 86.71%\n",
      "Epoch: 19 | Epoch Time: 0m 19s\n",
      "\tTrain Loss: 0.010 | Train Acc: 99.65%\n",
      "\t Val. Loss: 0.757 |  Val. Acc: 86.44%\n",
      "Epoch: 20 | Epoch Time: 0m 20s\n",
      "\tTrain Loss: 0.006 | Train Acc: 99.80%\n",
      "\t Val. Loss: 0.756 |  Val. Acc: 86.55%\n"
     ]
    }
   ],
   "source": [
    "# 同上，需要花8分钟左右\n",
    "optimizer = optim.Adam(model.parameters())\n",
    "criterion = nn.BCEWithLogitsLoss()\n",
    "criterion = criterion.to(device)\n",
    "\n",
    "N_EPOCHS = 20\n",
    "\n",
    "best_valid_loss = float('inf')\n",
    "\n",
    "for epoch in range(N_EPOCHS):\n",
    "\n",
    "    start_time = time.time()\n",
    "    \n",
    "    train_loss, train_acc = train(model, train_iterator, optimizer, criterion)\n",
    "    valid_loss, valid_acc = evaluate(model, valid_iterator, criterion)\n",
    "    \n",
    "    end_time = time.time()\n",
    "\n",
    "    epoch_mins, epoch_secs = epoch_time(start_time, end_time)\n",
    "    \n",
    "    if valid_loss < best_valid_loss:\n",
    "        best_valid_loss = valid_loss\n",
    "        torch.save(model.state_dict(), 'CNN-model.pt')\n",
    "    \n",
    "    print(f'Epoch: {epoch+1:02} | Epoch Time: {epoch_mins}m {epoch_secs}s')\n",
    "    print(f'\\tTrain Loss: {train_loss:.3f} | Train Acc: {train_acc*100:.2f}%')\n",
    "    print(f'\\t Val. Loss: {valid_loss:.3f} |  Val. Acc: {valid_acc*100:.2f}%')"
   ]
  },
  {
   "cell_type": "code",
   "execution_count": 49,
   "metadata": {},
   "outputs": [
    {
     "name": "stdout",
     "output_type": "stream",
     "text": [
      "Test Loss: 0.339 | Test Acc: 85.68%\n"
     ]
    }
   ],
   "source": [
    "# 发现上面结果过拟合了，同学们可以自行调参\n",
    "model.load_state_dict(torch.load('CNN-model.pt'))\n",
    "test_loss, test_acc = evaluate(model, test_iterator, criterion)\n",
    "print(f'Test Loss: {test_loss:.3f} | Test Acc: {test_acc*100:.2f}%')"
   ]
  },
  {
   "cell_type": "code",
   "execution_count": 50,
   "metadata": {},
   "outputs": [
    {
     "data": {
      "text/plain": [
       "0.6535547375679016"
      ]
     },
     "execution_count": 50,
     "metadata": {},
     "output_type": "execute_result"
    }
   ],
   "source": [
    "predict_sentiment(\"I feel This film bad\")"
   ]
  },
  {
   "cell_type": "code",
   "execution_count": 52,
   "metadata": {},
   "outputs": [
    {
     "data": {
      "text/plain": [
       "0.9950380921363831"
      ]
     },
     "execution_count": 52,
     "metadata": {},
     "output_type": "execute_result"
    }
   ],
   "source": [
    "predict_sentiment(\"This film is great well\") \n",
    "# 我后面加了个well，不加会报错，因为我们的FILTER_SIZES = [3,4,5]有设置为5，所以输出的句子长度不能小于5"
   ]
  },
  {
   "cell_type": "code",
   "execution_count": 54,
   "metadata": {},
   "outputs": [
    {
     "data": {
      "text/html": [
       "<a href=CNN-model.pt>Download model file</a>"
      ],
      "text/plain": [
       "<IPython.core.display.HTML object>"
      ]
     },
     "execution_count": 54,
     "metadata": {},
     "output_type": "execute_result"
    }
   ],
   "source": [
    "# kaggle上下载模型文件到本地\n",
    "from IPython.display import HTML\n",
    "import pandas as pd\n",
    "import numpy as np\n",
    "\n",
    "def create_download_link(title = \"Download model file\", filename = \"CNN-model.pt\"):  \n",
    "    html = '<a href={filename}>{title}</a>'\n",
    "    html = html.format(title=title,filename=filename)\n",
    "    return HTML(html)\n",
    "\n",
    "# create a link to download the dataframe which was saved with .to_csv method\n",
    "create_download_link(filename='CNN-model.pt')"
   ]
  },
  {
   "cell_type": "code",
   "execution_count": null,
   "metadata": {},
   "outputs": [],
   "source": []
  }
 ],
 "metadata": {
  "kernelspec": {
   "display_name": "Python 3",
   "language": "python",
   "name": "python3"
  },
  "language_info": {
   "codemirror_mode": {
    "name": "ipython",
    "version": 3
   },
   "file_extension": ".py",
   "mimetype": "text/x-python",
   "name": "python",
   "nbconvert_exporter": "python",
   "pygments_lexer": "ipython3",
   "version": "3.8.5"
  },
  "toc": {
   "base_numbering": 1,
   "nav_menu": {},
   "number_sections": true,
   "sideBar": true,
   "skip_h1_title": false,
   "title_cell": "Table of Contents",
   "title_sidebar": "Contents",
   "toc_cell": false,
   "toc_position": {},
   "toc_section_display": true,
   "toc_window_display": false
  }
 },
 "nbformat": 4,
 "nbformat_minor": 1
}
