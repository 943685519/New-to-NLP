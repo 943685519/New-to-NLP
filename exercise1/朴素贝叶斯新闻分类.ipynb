{
 "cells": [
  {
   "cell_type": "markdown",
   "metadata": {},
   "source": [
    "# 文本分类问题\n",
    "下面我们来看一个文本分类问题，经典的新闻主题分类，用朴素贝叶斯怎么做。"
   ]
  },
  {
   "cell_type": "code",
   "execution_count": 1,
   "metadata": {
    "ExecuteTime": {
     "end_time": "2020-11-04T07:28:47.054957Z",
     "start_time": "2020-11-04T07:28:46.184217Z"
    }
   },
   "outputs": [
    {
     "name": "stderr",
     "output_type": "stream",
     "text": [
      "Building prefix dict from the default dictionary ...\n",
      "Dumping model to file cache C:\\WINDOWS\\TEMP\\jieba.cache\n",
      "Loading model cost 0.718 seconds.\n",
      "Prefix dict has been built successfully.\n"
     ]
    },
    {
     "name": "stdout",
     "output_type": "stream",
     "text": [
      "他/来到/东海/识别区\n",
      "他/ 来到/ 东海识别区\n"
     ]
    }
   ],
   "source": [
    "import jieba\n",
    "seg_list = jieba.cut(\"他来到东海识别区\",cut_all=False)\n",
    "print(\"/\" .join(seg_list) )\n",
    "jieba.add_word('东海识别区')\n",
    "seg_list = jieba.cut(\"他来到东海识别区\",cut_all=False)\n",
    "print(\"/ \" .join(seg_list) )"
   ]
  },
  {
   "cell_type": "code",
   "execution_count": 5,
   "metadata": {
    "ExecuteTime": {
     "end_time": "2020-11-04T07:32:06.781998Z",
     "start_time": "2020-11-04T07:32:03.448151Z"
    }
   },
   "outputs": [],
   "source": [
    "#coding: utf-8\n",
    "import os\n",
    "import time\n",
    "import random\n",
    "import jieba  #处理中文\n",
    "import nltk  #处理英文\n",
    "import sklearn\n",
    "from sklearn.naive_bayes import MultinomialNB\n",
    "import numpy as np\n",
    "import pylab as pl\n",
    "import matplotlib.pyplot as plt\n",
    "import nltk"
   ]
  },
  {
   "cell_type": "markdown",
   "metadata": {},
   "source": [
    "## 文本处理\n",
    "1、把训练样本划分为训练集和测试集\n",
    "\n",
    "2、统计了词频，按词频降序生成词袋"
   ]
  },
  {
   "cell_type": "code",
   "execution_count": 16,
   "metadata": {
    "ExecuteTime": {
     "end_time": "2020-11-04T07:36:51.907092Z",
     "start_time": "2020-11-04T07:36:51.898528Z"
    }
   },
   "outputs": [],
   "source": [
    "# 文本处理，也就是样本生成过程\n",
    "def text_processing(folder_path, test_size=0.2):\n",
    "    folder_list = os.listdir(folder_path)\n",
    "    # os.listdir 方法用于返回路径下包含的文件或文件夹的名字的列表\n",
    "    # folder_list = ['C000008', 'C000014', 'C000013', 'C000022', 'C000023', 'C000024', 'C000010', 'C000020', 'C000016']\n",
    "    \n",
    "    data_list = []\n",
    "    class_list = []\n",
    "\n",
    "    # 遍历文件夹，每个文件夹里是一个新闻的类别\n",
    "    for folder in folder_list:\n",
    "        new_folder_path = os.path.join(folder_path, folder)\n",
    "        # os.path.join就是把两个路径拼接\n",
    "        # new_folder_path = ./Database/SogouC/Sample/C000008\n",
    "        \n",
    "        files = os.listdir(new_folder_path)\n",
    "        # 读取new_folder_path路径下的文件名\n",
    "        # ['15.txt', '14.txt', '16.txt', '17.txt', '13.txt', '12.txt', '10.txt', '11.txt', '19.txt', '18.txt']\n",
    "        \n",
    "        # 读取文件\n",
    "        j = 1\n",
    "        for file in files:\n",
    "            if j > 100: \n",
    "            # 怕内存爆掉，只取100个样本文件，你可以注释掉取完，\n",
    "            # 这里每个类别下只有10个样本，没事\n",
    "                break\n",
    "            with open(os.path.join(new_folder_path, file),'r',encoding='utf-8') as fp:\n",
    "                raw = fp.read()\n",
    "                # read() 返回值为str，每次读取整个文件，将文件所有内容放到一个字符串变量中\n",
    "                # readline() 返回值为str，每次只读取一行,每行的内容放在一个字符串变量中\n",
    "                # readlines() 返回值为list，一次读取整个文件，每行的内容放在一个字符串变量中作为列表的一个元素。\n",
    "            \n",
    "            ## 是的，随处可见的jieba中文分词\n",
    "            #jieba.enable_parallel(4) # 开启并行分词模式，参数为并行进程数，不支持windows\n",
    "            word_cut = jieba.cut(raw, cut_all=False) # 精确模式，返回的结构是一个可迭代的genertor\n",
    "            word_list = list(word_cut) # genertor转化为list，每个词unicode格式\n",
    "            jieba.disable_parallel() # 关闭并行分词模式\n",
    "            \n",
    "            data_list.append(word_list) #训练集list\n",
    "            #class_list.append(folder.decode('utf-8')) #类别,str.decode会报错\n",
    "            class_list.append(folder) #训练集的标签类别\n",
    "            j += 1\n",
    "\n",
    "            \n",
    "            \n",
    "    ## 下面手动粗暴地划分训练集和测试集\n",
    "    data_class_list = zip(data_list, class_list) # zip 函数返回一个zip对象\n",
    "    data_class_list = list(data_class_list) # 需要用list转换成列表\n",
    "    \n",
    "    random.shuffle(data_class_list) # shuffle随机打乱样本\n",
    "    index = in    train_list = data_class_list[index:]\n",
    "    test_list = data_class_list[:index]\n",
    "    t(len(data_class_list)*test_size)+1\n",
    "\n",
    "    train_data_list, train_class_list = zip(*train_list) \n",
    "    # 解压缩,文本和类别分开返回的是元组格式，可以在用list转换\n",
    "    test_data_list, test_class_list = zip(*test_list) \n",
    "    #以上划分训练集和测试集其实可以用sklearn自带的部分做\n",
    "    #train_data_list, test_data_list, train_class_list, test_class_list = \\\n",
    "    #sklearn.model_selection.train_test_split(data_list, class_list, test_size=test_size) \n",
    "    \n",
    "    \n",
    "   \n",
    "    # 统计词频放入all_words_dict\n",
    "    all_words_dict = {}\n",
    "    for word_list in train_data_list:\n",
    "        for word in word_list:\n",
    "            #if all_words_dict.has_key(word):已删除此方法\n",
    "            if word in all_words_dict:\n",
    "                all_words_dict[word] += 1\n",
    "            else:\n",
    "                all_words_dict[word] = 1\n",
    "    # all_words_dict={'\\n': 1257, '\\u3000': 1986, '有': 175, '江湖': 1,.....}\n",
    "    # 同样以上有现成的统计词频的API可以调用\n",
    "    # from collections import Counter \n",
    "    # Counter(train_data_list)\n",
    "\n",
    "    all_words_tuple_list = sorted(all_words_dict.items(), key=lambda f:f[1], reverse=True) \n",
    "    # 内建函数sorted第一个参数需为list，all_words_dict.items()转化为列表，键和值为元组\n",
    "    # key函数代表按元组的的词频排序，并降序返回结果\n",
    "    # all_words_tuple_list = [('，', 3424), ('的', 2527), ('\\u3000', 1734), ('。', 1482),.....]\n",
    "    \n",
    "    #all_words_list = list(zip(*all_words_tuple_list)[0]) 报错，需要修改\n",
    "    all_words_list,_ = zip(*all_words_tuple_list) # 解压缩\n",
    "    all_words_list = list(all_words_list)\n",
    "    # all_words_list = ['，', '的', '\\u3000', '。', '\\n', '在', ' ', '、', '了', '“',.....]\n",
    "\n",
    "    return all_words_list, train_data_list, test_data_list, train_class_list, test_class_list"
   ]
  },
  {
   "cell_type": "code",
   "execution_count": 17,
   "metadata": {
    "ExecuteTime": {
     "end_time": "2020-11-04T07:36:52.734231Z",
     "start_time": "2020-11-04T07:36:52.312834Z"
    }
   },
   "outputs": [
    {
     "name": "stdout",
     "output_type": "stream",
     "text": [
      "start\n",
      "9814\n",
      "['，', '的', '\\u3000', '。', '\\n', ';', '&', 'nbsp', '、', '在', ' ', '“', '”', '了', '是', '和', '\\x00', '：', '中国', '有', '我', '也', '就', '上', '对', '为', '将', '中', '都', '要', '而', '他', '公司', '年', '游客', '你', '一个', '—', '与', '旅游', '这', '不', '等', '自己', '到', '月', '说', '可以', '人', '考生', '；', '但', '（', '）', '市场', '多', '(', ')', '日', '3', '时', '从', '个', '会', '5', '进行', '把', '已经', '没有', '还', '时间', '来', '1', '让', '志愿', '新', '０', '并', '.', '北京', '以', '更', '后', '地', '企业', '％', '做', '目前', '很', '成为', '美国', '我们', '《', '》', '这样', '被', '支付', '能', '4', '作战']\n",
      "71\n",
      "19\n",
      "71\n",
      "19\n"
     ]
    }
   ],
   "source": [
    "print (\"start\")\n",
    "\n",
    "## 文本预处理\n",
    "folder_path = './Database/SogouC/Sample'\n",
    "all_words_list, train_data_list, test_data_list, train_class_list, test_class_list = \\\n",
    "text_processing(folder_path, test_size=0.2)\n",
    "print(len(all_words_list)) # 9748个不重复单词\n",
    "print(all_words_list[:100])\n",
    "print(len(train_data_list)) # 71个训练集样本\n",
    "print(len(test_data_list))  # 19个测试集样本\n",
    "print(len(train_class_list))  # 71个训练集标签\n",
    "print(len(test_class_list))  # 19个测试集标签"
   ]
  },
  {
   "cell_type": "markdown",
   "metadata": {},
   "source": [
    "## 停用词文件去重\n",
    "这个停用词文件不是很官方，所以需要清洗下"
   ]
  },
  {
   "cell_type": "code",
   "execution_count": 23,
   "metadata": {
    "ExecuteTime": {
     "end_time": "2020-11-04T07:38:05.341278Z",
     "start_time": "2020-11-04T07:38:05.336316Z"
    }
   },
   "outputs": [],
   "source": [
    "# 粗暴的词去重\n",
    "def make_word_set(words_file):\n",
    "    words_set = set() # 集合格式\n",
    "    with open(words_file, 'r',encoding = 'utf-8') as fp:\n",
    "        for line in fp.readlines(): # 循环取出每一行\n",
    "            word = line.strip()\n",
    "            # line.strip() 当()为空时，默认删除空白符（包括'\\n','\\r','\\t',' ')\n",
    "            if len(word)>0 and word not in words_set: # 去重\n",
    "                words_set.add(word)\n",
    "    return words_set"
   ]
  },
  {
   "cell_type": "code",
   "execution_count": 24,
   "metadata": {
    "ExecuteTime": {
     "end_time": "2020-11-04T07:38:06.599416Z",
     "start_time": "2020-11-04T07:38:06.593432Z"
    },
    "scrolled": true
   },
   "outputs": [
    {
     "name": "stdout",
     "output_type": "stream",
     "text": [
      "428\n",
      "{'嘿嘿', '许多', '似的', '怎', '尔', '前者', '哪些', '值此', '别的', '怎么样', '可', '要不', '即', '这会', '不', '已', '哪怕', '针对', '怎么', '格里斯', '譬如', '基于', '那里', '那时', '自从', '谁', '仍', '你', '如何', '只限', '因此', '不论', '再则', '彼时', '上', '除了', '今', '说来', '总之', '最', '那', '咱们', '它', '只怕', '与否', '如是', '自身', '不但', '要是', '那边', '以便', '来自', '以至', '起', '因为', '靠', '才能', '趁着', '以', '大家', '遵照', '并', '如同下', '了', '从', '每', '它们', '这里', '么', '个别', '此处', '我们', '可以', '还是', '随着', '不单', '这个', '乃至', '而', '可见', '要不然', '一', '这', '全部', '至', '和', '毋宁', '着', '不管', '跟', '同', '这般', '为着', '之', '虽然', '后者', '替代', '据', '且', '多会', '任何', '这些', '沿着', '全体', '甚而', '去', '可是', '就是', '除外', '有的', '正值', '向', '什么的', '不尽', '该', '好', '作为', '固然', '您', '不料', '往', '他们', '再', '自己', '哪', '还有', '因之', '是', '根据', '对比', '那儿', '宁可', '小', '如上', '关于', '逐步', '就算', '别人', '之所以', '出来', '不仅仅', '儿', '为何', '以来', '一切', '那个', '由此', '当', '后', '被', '向着', '几', '自', '又', '分别', '遵循', '把', '多少', '何时', '本身', '怎么办', '别处', '此次', '给', '有', '尽管如此', '为', '加以', '各位', '这么', '嘛', '拿', '至于', '本着', '于', '另', '即便', '诸位', '他人', '距', '怎样', '受到', '有些', '有时', '果然', '使', '尽管', '及至', '以致', '光是', '出于', '那样', '这样', '当然', '比', '倘若', '不外乎', '仍旧', '鉴于', '哟', '不仅', '如此', '但是', '她', '比如', '而已', '其次', '再有', '以免', '除非', '并且', '何况', '个', '啦', '反之', '对方', '简言之', '何', '来说', '等等', '还', '据此', '又及', '此', '至今', '所以', '一些', '依照', '一来', '连带', '与', '如若', '甚至', '处在', '赖以', '此时', '若是', '凡', '然而', '谁人', '的确', '打', '某某', '只', '例如', '从而', '而后', '正如', '什么', '曾', '只有', '由于', '若非', '从此', '那么', '只限于', '此外', '由', '即使', '同时', '这儿', '除此', '连同', '如果', '随时', '本人', '趁', '得了', '万一', '你们', '因而', '别说', '当地', '某些', '致', '进而', '随', '其他', '得', '接着', '既是', '的', '凭', '各', '用', '以及', '什么样', '多么', '在', '个人', '那些', '首先', '彼此', '因', '较之', '为了', '经过', '非但', '唯有', '嗡', '某个', '呵呵', '这边', '截至', '有关', '或者', '只要', '不如', '便于', '虽说', '各自', '甚至于', '咱', '到', '两者', '所', '亦', '其它', '诸如', '既往', '则', '来', '假如', '继而', '就要', '在于', '要么', '不至于', '对待', '况且', '与其', '乃', '她们', '此间', '于是', '对于', '及', '哇', '不然', '开外', '此地', '若', '却', '介于', '或是', '所有', '本地', '依据', '人们', '我', '而且', '也', '不只', '而外', '吧', '们', '无', '才是', '些', '正巧', '直到', '而是', '按照', '就是说', '让', '何以', '用来', '只因', '并非', '随后', '不尽然', '每当', '凭借', '嘻嘻', '下', '很', '另一方面', '那般', '所在', '其', '照着', '只是', '还要', '不过', '正是', '何处', '人', '某', '以为', '沿', '其中', '虽', '或者说', '否则', '如果说', '别', '凡是', '看', '他', '如', '故而', '既', '不光', '不是', '加之', '然后', '无论', '诸', '并不', '另外', '为此', '以上', '朝着', '反而', '为什么', '为止', '一旦', '既然', '但', '其余', '只需', '的话', '哪儿', '如下', '只消', '啥', '或', '哪个'}\n"
     ]
    }
   ],
   "source": [
    "# 生成stopwords_set\n",
    "stopwords_file = './stopwords_cn.txt' # 停用词列表文件\n",
    "stopwords_set = make_word_set(stopwords_file) # 首先停用词去重\n",
    "print(len(stopwords_set))\n",
    "print(stopwords_set)"
   ]
  },
  {
   "cell_type": "markdown",
   "metadata": {},
   "source": [
    "## 词袋中选取有代表性的特征词\n",
    "第一步生成的词袋里有很多通用的、无意义的词语，需要去掉。  \n",
    "有代表性的词语很大概率是一些对最终类别区分有作用的词语。并且后面这些词语会作为特征作为模型的输入。"
   ]
  },
  {
   "cell_type": "code",
   "execution_count": 25,
   "metadata": {
    "ExecuteTime": {
     "end_time": "2020-11-04T07:38:08.330352Z",
     "start_time": "2020-11-04T07:38:08.280924Z"
    }
   },
   "outputs": [],
   "source": [
    "def words_dict(all_words_list, deleteN, stopwords_set=set()):\n",
    "    # 选取特征词\n",
    "    feature_words = []\n",
    "    n = 1\n",
    "    for t in range(deleteN, len(all_words_list), 1):\n",
    "        # 循环时从第20个开始，也就是舍弃前20个词语\n",
    "        if n > 1000: # feature_words的维度1000\n",
    "            break\n",
    "            \n",
    "        if not all_words_list[t].isdigit() and \\\n",
    "        all_words_list[t] not in stopwords_set and \\\n",
    "        1<len(all_words_list[t])<5:\n",
    "        # isdigit() 方法检测字符串是否只由数字组成,返回True和False\n",
    "        # 满足三个条件：不是数字；不在停用词表；长度2～4\n",
    "            feature_words.append(all_words_list[t])\n",
    "            n += 1\n",
    "    return feature_words "
   ]
  },
  {
   "cell_type": "code",
   "execution_count": 27,
   "metadata": {
    "ExecuteTime": {
     "end_time": "2020-11-04T07:38:17.518650Z",
     "start_time": "2020-11-04T07:38:17.513627Z"
    }
   },
   "outputs": [
    {
     "name": "stdout",
     "output_type": "stream",
     "text": [
      "['公司', '游客', '一个', '旅游', '考生', '市场', '进行', '已经', '没有', '时间', '志愿', '北京', '企业', '目前', '成为', '美国', '支付', '作战', '复习', '很多', '黄金周', '仿制', '发展', '五一', '主要', '选择', '工作', '可能', '比赛', '增长', '问题', '建设', '认为', '品牌', '时候', '学习', '一定', '亿美元', '部分', '基础', '记者', '通过', '词汇', '学校', '考试', '辅导班', '银行', '能力', '专业', '今年', '期间', '表示', '上海', '重要', '提高', '填报', '管理', '计划', '使用', '需要', '比较', '毕业生', '产品', '开始', '项目', '国家', '达到', '收入', '部队', '全国', '影响', '必须', '希望', '万人次', '分析', '用户', '历史', '科学', '日本', '销售', '要求', '情况', '阅读', '相关', '了解', '老师', '经济', '各种', '方面', '英语', '重点', '来源', '最后', '考古', '印度', '接待', '机会', '现在', '一种', '这是']\n"
     ]
    }
   ],
   "source": [
    "deleteN = 20 \n",
    "# 删除前20个词语,可以调整这个数值\n",
    "# 越靠前的词语出现的越频繁，有可能所有类别中都出现很多次，这类词语是可以去掉的。\n",
    "feature_words = words_dict(all_words_list, deleteN, stopwords_set)\n",
    "print(feature_words[:100])"
   ]
  },
  {
   "cell_type": "markdown",
   "metadata": {},
   "source": [
    "## 训练和测试集生成固定长度的词向量特征\n",
    "这步为后面数据输入进贝叶斯模型训练做准备。\n",
    "\n",
    "因为文本长度不一，所以每个样本需要固定好维度，才能喂给模型训练。\n"
   ]
  },
  {
   "cell_type": "code",
   "execution_count": 28,
   "metadata": {
    "ExecuteTime": {
     "end_time": "2020-11-04T07:38:19.686552Z",
     "start_time": "2020-11-04T07:38:19.680595Z"
    }
   },
   "outputs": [],
   "source": [
    "# 文本特征\n",
    "def text_features(train_data_list, test_data_list, feature_words, flag='nltk'):\n",
    "    def text_features(text, feature_words): # text的定义在下面\n",
    "        text_words = set(text) # 样本去重\n",
    "        ## -----------------------------------------------------------------------------------\n",
    "        if flag == 'nltk':\n",
    "            ## nltk特征 dict\n",
    "            features = {word:1 if word in text_words else 0 for word in feature_words}\n",
    "# 遍历每个样本词语，凡是样本的词语出现在1000个特征词里，就记录下来，保存为字典格式，键为词语，值为1，否则值为0。\n",
    "            \n",
    "        elif flag == 'sklearn':\n",
    "            ## sklearn特征 list\n",
    "            features = [1 if word in text_words else 0 for word in feature_words] \n",
    "# 同上，遍历每个样本词语，结果不是字典，出现即为1，不出现为0\n",
    "\n",
    "        else:\n",
    "            features = []\n",
    "        ## -----------------------------------------------------------------------------------\n",
    "        return features\n",
    "    train_feature_list = [text_features(text, feature_words) for text in train_data_list]\n",
    "    # text为每一个训练的样本，返回值是二维列表\n",
    "    \n",
    "    test_feature_list = [text_features(text, feature_words) for text in test_data_list]\n",
    "    # train为每一个测试样本，返回值是二维列表\n",
    "    \n",
    "    return train_feature_list, test_feature_list"
   ]
  },
  {
   "cell_type": "code",
   "execution_count": 29,
   "metadata": {
    "ExecuteTime": {
     "end_time": "2020-11-04T07:38:20.371607Z",
     "start_time": "2020-11-04T07:38:20.359615Z"
    }
   },
   "outputs": [
    {
     "name": "stdout",
     "output_type": "stream",
     "text": [
      "71\n",
      "19\n",
      "1000\n",
      "[0, 1, 0, 1, 0, 1, 1, 1, 0, 1, 0, 0, 0, 0, 1, 0, 0, 0, 0, 1, 1, 0, 0, 1, 1, 1, 0, 0, 0, 1, 0, 0, 0, 0, 0, 0, 0, 0, 0, 0, 1, 0, 0, 0, 0, 0, 0, 0, 0, 1, 1, 0, 0, 0, 0, 0, 0, 0, 0, 0, 0, 0, 0, 0, 0, 0, 1, 1, 0, 0, 0, 0, 0, 1, 0, 0, 0, 0, 0, 0, 1, 0, 0, 0, 0, 0, 0, 0, 0, 0, 0, 0, 0, 0, 0, 1, 0, 0, 0, 0]\n"
     ]
    }
   ],
   "source": [
    "flag = 'sklearn'\n",
    "train_feature_list, test_feature_list = \\\n",
    "text_features(train_data_list, test_data_list, feature_words, flag)\n",
    "print(len(train_feature_list)) #\n",
    "print(len(test_feature_list))  # \n",
    "print(len(test_feature_list[5])) # 每个样本的维度都是1000 \n",
    "print(test_feature_list[5][0:100]) # 打印测试集的第5个样本的前100个值"
   ]
  },
  {
   "cell_type": "markdown",
   "metadata": {},
   "source": [
    "## 贝叶斯模型开始训练和预测"
   ]
  },
  {
   "cell_type": "code",
   "execution_count": 30,
   "metadata": {
    "ExecuteTime": {
     "end_time": "2020-11-04T07:38:21.709676Z",
     "start_time": "2020-11-04T07:38:21.703720Z"
    }
   },
   "outputs": [],
   "source": [
    "# 分类，同时输出准确率等\n",
    "def text_classifier(train_feature_list, test_feature_list, \n",
    "                    train_class_list, test_class_list, flag='nltk'):\n",
    "    ## -----------------------------------------------------------------------------------\n",
    "    if flag == 'nltk':\n",
    "        ## 使用nltk分类器\n",
    "        train_flist = zip(train_feature_list, train_class_list)\n",
    "        train_flist = list(train_flist) \n",
    "        test_flist = zip(test_feature_list, test_class_list)\n",
    "        train_flist = list(test_flist) \n",
    "        classifier = nltk.classify.NaiveBayesClassifier.train(train_flist)\n",
    "        test_accuracy = nltk.classify.accuracy(classifier, test_flist)\n",
    "        \n",
    "    elif flag == 'sklearn':\n",
    "        ## sklearn分类器\n",
    "        classifier = MultinomialNB().fit(train_feature_list, train_class_list)\n",
    "        # MultinomialNB()的使用方法和参数见：https://www.cnblogs.com/pinard/p/6074222.html\n",
    "        \n",
    "        test_accuracy = classifier.score(test_feature_list, test_class_list)\n",
    "    else:\n",
    "        test_accuracy = []\n",
    "    return test_accuracy"
   ]
  },
  {
   "cell_type": "code",
   "execution_count": 31,
   "metadata": {
    "ExecuteTime": {
     "end_time": "2020-11-04T07:38:24.919903Z",
     "start_time": "2020-11-04T07:38:22.416471Z"
    }
   },
   "outputs": [
    {
     "name": "stdout",
     "output_type": "stream",
     "text": [
      "0.7368421052631579\n"
     ]
    }
   ],
   "source": [
    "flag='sklearn'\n",
    "test_accuracy = text_classifier(train_feature_list, test_feature_list, \n",
    "                                    train_class_list, test_class_list, flag)\n",
    "print(test_accuracy)"
   ]
  },
  {
   "cell_type": "markdown",
   "metadata": {},
   "source": [
    "## 可视化\n",
    "这步调参，查看不同的deleteNs对模型效果的影响"
   ]
  },
  {
   "cell_type": "code",
   "execution_count": 34,
   "metadata": {
    "ExecuteTime": {
     "end_time": "2020-11-04T07:38:45.291294Z",
     "start_time": "2020-11-04T07:38:43.744362Z"
    }
   },
   "outputs": [
    {
     "name": "stdout",
     "output_type": "stream",
     "text": [
      "start\n",
      "[0.7368421052631579, 0.7368421052631579, 0.7368421052631579, 0.7368421052631579, 0.7368421052631579, 0.7368421052631579, 0.7368421052631579, 0.7368421052631579, 0.7368421052631579, 0.6842105263157895, 0.631578947368421, 0.631578947368421, 0.631578947368421, 0.631578947368421, 0.631578947368421, 0.6842105263157895, 0.6842105263157895, 0.6842105263157895, 0.6842105263157895, 0.6842105263157895, 0.6842105263157895, 0.6842105263157895, 0.6842105263157895, 0.631578947368421, 0.6842105263157895, 0.6842105263157895, 0.6842105263157895, 0.6842105263157895, 0.631578947368421, 0.631578947368421, 0.631578947368421, 0.6842105263157895, 0.6842105263157895, 0.631578947368421, 0.631578947368421, 0.631578947368421, 0.631578947368421, 0.5789473684210527, 0.5789473684210527, 0.5789473684210527, 0.5789473684210527, 0.5789473684210527, 0.5789473684210527, 0.5263157894736842, 0.5789473684210527, 0.5789473684210527, 0.5789473684210527, 0.5789473684210527, 0.631578947368421, 0.631578947368421]\n"
     ]
    },
    {
     "data": {
      "image/png": "[encoded data removed]",
      "text/plain": [
       "<Figure size 432x288 with 1 Axes>"
      ]
     },
     "metadata": {
      "needs_background": "light"
     },
     "output_type": "display_data"
    },
    {
     "name": "stdout",
     "output_type": "stream",
     "text": [
      "finished\n"
     ]
    }
   ],
   "source": [
    "print (\"start\")\n",
    "\n",
    "## 文本预处理\n",
    "folder_path = './Database/SogouC/Sample'\n",
    "\n",
    "\n",
    "all_words_list, train_data_list, test_data_list, train_class_list, test_class_list = text_processing(folder_path, test_size=0.2)\n",
    "\n",
    "# 生成stopwords_set\n",
    "stopwords_file = './stopwords_cn.txt'\n",
    "stopwords_set = make_word_set(stopwords_file)\n",
    "\n",
    "## 文本特征提取和分类\n",
    "# flag = 'nltk'\n",
    "flag = 'sklearn'\n",
    "deleteNs = range(0, 1000, 20)\n",
    "test_accuracy_list = []\n",
    "for deleteN in deleteNs:\n",
    "    # feature_words = words_dict(all_words_list, deleteN)\n",
    "    feature_words = words_dict(all_words_list, deleteN, stopwords_set)\n",
    "    train_feature_list, test_feature_list = text_features(train_data_list, test_data_list, feature_words, flag)\n",
    "    test_accuracy = text_classifier(train_feature_list, test_feature_list, train_class_list, test_class_list, flag)\n",
    "    test_accuracy_list.append(test_accuracy)\n",
    "print (test_accuracy_list)\n",
    "\n",
    "# 结果评价\n",
    "#plt.figure()\n",
    "plt.plot(deleteNs, test_accuracy_list)\n",
    "plt.title('Relationship of deleteNs and test_accuracy')\n",
    "plt.xlabel('deleteNs')\n",
    "plt.ylabel('test_accuracy')\n",
    "plt.show()\n",
    "#plt.savefig('result.png')\n",
    "\n",
    "print (\"finished\")"
   ]
  }
 ],
 "metadata": {
  "kernelspec": {
   "display_name": "Python 3",
   "language": "python",
   "name": "python3"
  },
  "language_info": {
   "codemirror_mode": {
    "name": "ipython",
    "version": 3
   },
   "file_extension": ".py",
   "mimetype": "text/x-python",
   "name": "python",
   "nbconvert_exporter": "python",
   "pygments_lexer": "ipython3",
   "version": "3.8.5"
  },
  "toc": {
   "base_numbering": 1,
   "nav_menu": {},
   "number_sections": true,
   "sideBar": true,
   "skip_h1_title": false,
   "title_cell": "Table of Contents",
   "title_sidebar": "Contents",
   "toc_cell": false,
   "toc_position": {},
   "toc_section_display": true,
   "toc_window_display": false
  }
 },
 "nbformat": 4,
 "nbformat_minor": 2
}
