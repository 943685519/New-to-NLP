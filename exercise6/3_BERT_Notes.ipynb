{
 "cells": [
  {
   "cell_type": "markdown",
   "metadata": {
    "toc": true
   },
   "source": [
    "<h1>Table of Contents<span class=\"tocSkip\"></span></h1>\n",
    "<div class=\"toc\"><ul class=\"toc-item\"><li><span><a href=\"#输入序列与嵌入表示\" data-toc-modified-id=\"输入序列与嵌入表示-1\"><span class=\"toc-item-num\">1&nbsp;&nbsp;</span>输入序列与嵌入表示</a></span></li><li><span><a href=\"#单词级和句子级的多任务学习\" data-toc-modified-id=\"单词级和句子级的多任务学习-2\"><span class=\"toc-item-num\">2&nbsp;&nbsp;</span>单词级和句子级的多任务学习</a></span><ul class=\"toc-item\"><li><span><a href=\"#遮蔽语言模型（MLM)训练任务\" data-toc-modified-id=\"遮蔽语言模型（MLM)训练任务-2.1\"><span class=\"toc-item-num\">2.1&nbsp;&nbsp;</span>遮蔽语言模型（MLM)训练任务</a></span></li><li><span><a href=\"#下一句预测任务\" data-toc-modified-id=\"下一句预测任务-2.2\"><span class=\"toc-item-num\">2.2&nbsp;&nbsp;</span>下一句预测任务</a></span></li></ul></li><li><span><a href=\"#模型架构\" data-toc-modified-id=\"模型架构-3\"><span class=\"toc-item-num\">3&nbsp;&nbsp;</span>模型架构</a></span><ul class=\"toc-item\"><li><span><a href=\"#编码器结构\" data-toc-modified-id=\"编码器结构-3.1\"><span class=\"toc-item-num\">3.1&nbsp;&nbsp;</span>编码器结构</a></span></li><li><span><a href=\"#多头注意力机制与缩放点积\" data-toc-modified-id=\"多头注意力机制与缩放点积-3.2\"><span class=\"toc-item-num\">3.2&nbsp;&nbsp;</span>多头注意力机制与缩放点积</a></span></li><li><span><a href=\"#前馈神经网络\" data-toc-modified-id=\"前馈神经网络-3.3\"><span class=\"toc-item-num\">3.3&nbsp;&nbsp;</span>前馈神经网络</a></span></li><li><span><a href=\"#pad掩码\" data-toc-modified-id=\"pad掩码-3.4\"><span class=\"toc-item-num\">3.4&nbsp;&nbsp;</span>pad掩码</a></span></li><li><span><a href=\"#模型任务\" data-toc-modified-id=\"模型任务-3.5\"><span class=\"toc-item-num\">3.5&nbsp;&nbsp;</span>模型任务</a></span></li></ul></li><li><span><a href=\"#PyTorch实现\" data-toc-modified-id=\"PyTorch实现-4\"><span class=\"toc-item-num\">4&nbsp;&nbsp;</span>PyTorch实现</a></span><ul class=\"toc-item\"><li><span><a href=\"#导包及参数设置\" data-toc-modified-id=\"导包及参数设置-4.1\"><span class=\"toc-item-num\">4.1&nbsp;&nbsp;</span>导包及参数设置</a></span></li><li><span><a href=\"#数据处理\" data-toc-modified-id=\"数据处理-4.2\"><span class=\"toc-item-num\">4.2&nbsp;&nbsp;</span>数据处理</a></span></li><li><span><a href=\"#嵌入表示\" data-toc-modified-id=\"嵌入表示-4.3\"><span class=\"toc-item-num\">4.3&nbsp;&nbsp;</span>嵌入表示</a></span></li><li><span><a href=\"#编码器定义\" data-toc-modified-id=\"编码器定义-4.4\"><span class=\"toc-item-num\">4.4&nbsp;&nbsp;</span>编码器定义</a></span></li><li><span><a href=\"#缩放点积、多头注意力机制与前馈神经网络\" data-toc-modified-id=\"缩放点积、多头注意力机制与前馈神经网络-4.5\"><span class=\"toc-item-num\">4.5&nbsp;&nbsp;</span>缩放点积、多头注意力机制与前馈神经网络</a></span></li><li><span><a href=\"#模型定义\" data-toc-modified-id=\"模型定义-4.6\"><span class=\"toc-item-num\">4.6&nbsp;&nbsp;</span>模型定义</a></span></li><li><span><a href=\"#模型训练及测试\" data-toc-modified-id=\"模型训练及测试-4.7\"><span class=\"toc-item-num\">4.7&nbsp;&nbsp;</span>模型训练及测试</a></span></li></ul></li></ul></div>"
   ]
  },
  {
   "cell_type": "markdown",
   "metadata": {},
   "source": [
    "# BERT原理及实现"
   ]
  },
  {
   "cell_type": "markdown",
   "metadata": {},
   "source": [
    "<img src=\"./bert_family.jpg\"  height=\"70%\" width=\"70%\">"
   ]
  },
  {
   "cell_type": "markdown",
   "metadata": {},
   "source": [
    "## 输入序列与嵌入表示"
   ]
  },
  {
   "cell_type": "markdown",
   "metadata": {},
   "source": [
    "<img src=\"./input.png\"  height=\"60%\" width=\"60%\">"
   ]
  },
  {
   "cell_type": "markdown",
   "metadata": {},
   "source": [
    "输入序列\n",
    "$$input=\\left([CLS],s_1,s_2,\\cdots,s_m,[SEP],p_1,p_2,\\cdots,p_n,[SEP]\\right)$$\n",
    "其中，$s_i,p_j\\in\\mathbb{N}$为输入符号表中的序号；子序列$\\left(s_1,\\cdots,s_m\\right)$为句子对中前序句子；子序列$\\left(p_1,\\cdots,p_n\\right)$为句子对中后续句子；输入序列首标记$[CLS]$用作分类任务表示；特殊标记$[SEP]$用作区分句子对各子句。"
   ]
  },
  {
   "cell_type": "markdown",
   "metadata": {},
   "source": [
    "符号嵌入$Embedding_{tok}\\left(input\\right)\\in\\mathbb{R}^{N\\times d_{model}}$，其中，$N$为输入符号个数，$d_{model}$为符号嵌入维度。"
   ]
  },
  {
   "cell_type": "markdown",
   "metadata": {},
   "source": [
    "句子分割嵌入$Embedding_{seg}\\left(input\\right)\\in\\mathbb{R}^{N\\times d_{model}}$，其中，$N$为输入符号个数，$d_{model}$为句子嵌入维度。对于单句输入，仅使用句子A嵌入。"
   ]
  },
  {
   "cell_type": "markdown",
   "metadata": {},
   "source": [
    "符号位置嵌入$Embedding_{pos}\\left(input\\right)\\in\\mathbb{R}^{N\\times d_{model}}$，其中，$N$为输入符号个数，$d_{model}$为符号位置嵌入维度。"
   ]
  },
  {
   "cell_type": "markdown",
   "metadata": {},
   "source": [
    "## 单词级和句子级的多任务学习"
   ]
  },
  {
   "cell_type": "markdown",
   "metadata": {},
   "source": [
    "### 遮蔽语言模型（MLM)训练任务"
   ]
  },
  {
   "cell_type": "markdown",
   "metadata": {},
   "source": [
    "遮蔽语言模型可描述为给定单词上下文序列后，当前单词出现的条件概率的乘积：\n",
    "$$P\\left(w_1^T\\right)=\\prod_{t=1}^TP\\left(w_t|w_1^{t-1},w_{t+1}^T\\right)$$\n",
    "其中，$w_t$是第$t$个单词，$w_i^j=\\left(w_i,w_{i+1},\\dots,w_{j-1},w_j\\right)$是从第$i$个单词到第$j$个单词的子序列。"
   ]
  },
  {
   "cell_type": "markdown",
   "metadata": {},
   "source": [
    "具体的，训练数据集中选择15%的遮蔽单词$w_t$，并以特殊标记$[MASK]$进行替换。为减少$[MASK]$标记对微调的影响，数据生成器将执行以下操作，而不是始终用$[MASK]$替换所选单词:\n",
    "* 80%的时间：将单词替换为$[MASK]$；\n",
    "* 10%的时间：用随机单词替换单词；\n",
    "* 10%的时间：保持单词不变。这样做的目的是使表示偏向实际观察到的单词。"
   ]
  },
  {
   "cell_type": "markdown",
   "metadata": {},
   "source": [
    "### 下一句预测任务"
   ]
  },
  {
   "cell_type": "markdown",
   "metadata": {},
   "source": [
    "从语料库中生成二值化的下一句句子预测任务。"
   ]
  },
  {
   "cell_type": "markdown",
   "metadata": {},
   "source": [
    "具体的，当为每个预训练选择句子A和B时，B的50％的时间是跟随A的实际下一个句子，而50％的时间是来自语料库的随机句子。\n",
    "* input=[CLS] the man went to [MASK] store [SEP] he bought a gallon [MASK] milk [SEP]   label = IsNext\n",
    "* input=[CLS] the man [MASK] to the store [SEP] penguin [MASK] are flight ##less birds [SEP] label = NotNext"
   ]
  },
  {
   "cell_type": "markdown",
   "metadata": {},
   "source": [
    "## 模型架构"
   ]
  },
  {
   "cell_type": "markdown",
   "metadata": {
    "ExecuteTime": {
     "end_time": "2020-06-28T07:48:56.694977Z",
     "start_time": "2020-06-28T07:48:56.688683Z"
    }
   },
   "source": [
    "<img src=\"./bert.jpg\"  height=\"80%\" width=\"80%\">"
   ]
  },
  {
   "cell_type": "markdown",
   "metadata": {},
   "source": [
    "### 编码器结构"
   ]
  },
  {
   "cell_type": "markdown",
   "metadata": {},
   "source": [
    "<img src=\"./encoder.png\"  height=\"20%\" width=\"20%\">"
   ]
  },
  {
   "cell_type": "markdown",
   "metadata": {},
   "source": [
    "编码器结构：\n",
    "$$\\begin{align}\n",
    "e_0&=Embedding_{tok}\\left(inputs\\right)+Embedding_{seg}\\left(inputs\\right)+Embedding_{pos}\\left(inputs\\right) \\\\\n",
    "e_l&=EncoderLayer\\left(e_{l-1}\\right),l\\in\\left[1,n\\right] \\\\\n",
    "\\end{align}$$\n",
    "其中，$e_0\\in\\mathbb{R}^{N\\times d_{model}}$为编码器输入，$EncoderLayer\\left(\\cdot\\right)$为编码器层，$n$为层数，$e_l\\in\\mathbb{R}^{N\\times d_{model}}$为第$l$层编码器层输出。"
   ]
  },
  {
   "cell_type": "markdown",
   "metadata": {},
   "source": [
    "编码器层EncoderLayer：\n",
    "$$\\begin{align}\n",
    "e_{mid}&=LayerNorm\\left(e_{in}+MultiHeadAttention\\left(e_{in}\\right)\\right) \\\\\n",
    "e_{out}&=LayerNorm\\left(e_{mid}+FFN\\left(e_{mid}\\right)\\right)\n",
    "\\end{align}$$\n",
    "其中，$e_{in}\\in\\mathbb{R}^{N\\times d_{model}}$为编码器层输入，$e_{out}\\in\\mathbb{R}^{N\\times d_{model}}$为编码器层输出，$MultiHeadAttention\\left(\\cdot\\right)$为多头注意力机制，$FFN\\left(\\cdot\\right)$为前馈神经网络，$LayerNorm\\left(\\cdot\\right)$为层归一化。"
   ]
  },
  {
   "cell_type": "markdown",
   "metadata": {},
   "source": [
    "### 多头注意力机制与缩放点积"
   ]
  },
  {
   "cell_type": "markdown",
   "metadata": {},
   "source": [
    "<img src=\"./attention.png\"  height=\"70%\" width=\"70%\">"
   ]
  },
  {
   "cell_type": "markdown",
   "metadata": {},
   "source": [
    "输入向量序列$e_{in}=\\left(e_{in1},e_{in2},\\cdots,e_{inN}\\right)\\in\\mathbb{R}^{N\\times d_{model}}$，分别得到查询向量序列$Q=e_{in}$，键向量序列$K=e_{in}$，值向量序列$V=e_{in}$。"
   ]
  },
  {
   "cell_type": "markdown",
   "metadata": {},
   "source": [
    "多头注意力机制\n",
    "$$MultiHeadAttention\\left(e_{in}\\right)=MultiHead\\left(Q,K,V\\right)=Concat\\left(head_1,\\cdots,head_h\\right)W^O$$\n",
    "其中，多头输出$head_i=Attention\\left(QW_i^Q,KW_i^K,VW_i^V\\right)$，可学习的参数矩阵$W_i^Q\\in\\mathbb{R}^{d_{model}\\times d_k},W_i^K\\in\\mathbb{R}^{d_{model}\\times d_k},W_i^V\\in\\mathbb{R}^{d_{model}\\times d_v},W^O\\in\\mathbb{R}^{hd_v\\times d_{model}}$"
   ]
  },
  {
   "cell_type": "markdown",
   "metadata": {},
   "source": [
    "使用缩放点积作为打分函数的自注意力机制\n",
    "$$Attention\\left(QW_i^Q,KW_i^K,VW_i^V\\right)=softmax\\left(\\frac{QW_i^Q\\left(KW_i^K\\right)^\\top}{\\sqrt{d_k}}\\right)VW_i^V$$"
   ]
  },
  {
   "cell_type": "markdown",
   "metadata": {},
   "source": [
    "### 前馈神经网络"
   ]
  },
  {
   "cell_type": "markdown",
   "metadata": {},
   "source": [
    "$$\\begin{align}\n",
    "FFN\\left(e_{mid}\\right)&=GELU\\left(e_{mid}W_1+b_1\\right)W_2+b_2 \n",
    "\\end{align}$$"
   ]
  },
  {
   "cell_type": "markdown",
   "metadata": {},
   "source": [
    "其中，参数矩阵$W_1\\in\\mathbb{R}^{d_{model}\\times d_{ff}},W_2\\in\\mathbb{R}^{d_{ff}\\times d_{model}}$，偏置$b_1\\in\\mathbb{R}^{d_{ff}},b_2\\in\\mathbb{R}^{d_{model}}$。"
   ]
  },
  {
   "cell_type": "markdown",
   "metadata": {},
   "source": [
    "### pad掩码"
   ]
  },
  {
   "cell_type": "markdown",
   "metadata": {},
   "source": [
    "$$enc\\_pad\\_mask_j=\\left(e_{j1},e_{j2},\\cdots,e_{jp},\\cdots,e_{jN}\\right)$$\n",
    "其中，\n",
    "$$\n",
    "e_{jp}=\\left\\{\n",
    "\\begin{array}{rcl}\n",
    "True,      &      & {i_p=0}\\\\\n",
    "False,     &      & {i_p \\neq 0}\n",
    "\\end{array} \\right.   \\quad j=1,2,\\cdots,N\n",
    "$$\n",
    "$enc\\_pad\\_mask\\in\\mathbb{R}^{N\\times N}$，$i_p$为输入序列$inputs$对应位置序号。"
   ]
  },
  {
   "cell_type": "markdown",
   "metadata": {},
   "source": [
    "### 模型任务"
   ]
  },
  {
   "cell_type": "markdown",
   "metadata": {
    "ExecuteTime": {
     "end_time": "2020-06-28T08:12:34.914890Z",
     "start_time": "2020-06-28T08:12:34.906110Z"
    }
   },
   "source": [
    "<img src=\"./task.png\"  height=\"70%\" width=\"70%\">"
   ]
  },
  {
   "cell_type": "markdown",
   "metadata": {},
   "source": [
    "## PyTorch实现"
   ]
  },
  {
   "cell_type": "markdown",
   "metadata": {},
   "source": [
    "### 导包及参数设置"
   ]
  },
  {
   "cell_type": "code",
   "execution_count": 2,
   "metadata": {
    "ExecuteTime": {
     "end_time": "2020-06-28T03:39:41.841162Z",
     "start_time": "2020-06-28T03:39:40.316606Z"
    }
   },
   "outputs": [],
   "source": [
    "import math\n",
    "import re\n",
    "from random import *\n",
    "import numpy as np\n",
    "import torch\n",
    "import torch.nn as nn\n",
    "import torch.optim as optim\n",
    "from torch.autograd import Variable\n",
    "\n",
    "maxlen = 30\n",
    "batch_size = 6\n",
    "max_pred = 5 \n",
    "n_layers = 6\n",
    "n_heads = 12\n",
    "d_model = 768\n",
    "d_ff = 768 * 4\n",
    "d_k = d_v = 64\n",
    "n_segments = 2"
   ]
  },
  {
   "cell_type": "markdown",
   "metadata": {},
   "source": [
    "### 数据处理"
   ]
  },
  {
   "cell_type": "code",
   "execution_count": 3,
   "metadata": {
    "ExecuteTime": {
     "end_time": "2020-06-28T03:40:49.576617Z",
     "start_time": "2020-06-28T03:40:49.555647Z"
    }
   },
   "outputs": [],
   "source": [
    "text = (\n",
    "    'Hello, how are you? I am Romeo.\\n'\n",
    "    'Hello, Romeo. My name is Juliet. Nice to meet you.\\n'\n",
    "    'Nice to meet you too. How are you today?\\n'\n",
    "    'Great. My baseball team won the competition.\\n'\n",
    "    'Oh Congratulations, Juliet\\n'\n",
    "    'Thanks you Romeo'\n",
    ")\n",
    "\n",
    "sentences = re.sub(\"[.,!?\\\\-]\", '', text.lower()).split('\\n')\n",
    "word_list = list(set(\" \".join(sentences).split()))\n",
    "word_dict = {'[PAD]' : 0, '[CLS]' : 1, '[SEP]' : 2, '[MASK]' : 3}\n",
    "for i, w in enumerate(word_list):\n",
    "    word_dict[w] = i + 4\n",
    "number_dict = {i : w for i, w in enumerate(word_dict)}\n",
    "vocab_size = len(word_dict)\n",
    "\n",
    "token_list = list()\n",
    "for sentence in sentences:\n",
    "    arr = [word_dict[s] for s in sentence.split()]\n",
    "    token_list.append(arr)\n",
    "\n",
    "def make_batch():\n",
    "    batch = []\n",
    "    positive = negative = 0\n",
    "    while positive != batch_size / 2 or negative != batch_size /2:\n",
    "        tokens_a_index, tokens_b_index = randrange(len(sentences)), randrange(len(sentences))\n",
    "        tokens_a, tokens_b = token_list[tokens_a_index], token_list[tokens_b_index]\n",
    "        input_ids = [word_dict['[CLS]']] + tokens_a + [word_dict['[SEP]']] + tokens_b + [word_dict['[SEP]']]\n",
    "        segment_ids = [0] * (1 + len(tokens_a) + 1) + [1] * (len(tokens_b) + 1)\n",
    "\n",
    "        n_pred = min(max_pred, max(1, int(round(len(input_ids) * 0.15))))\n",
    "        cand_maked_pos = [i for i, token in enumerate(input_ids)\n",
    "                          if token != word_dict['[CLS]'] and token != word_dict['[SEP]']]\n",
    "        shuffle(cand_maked_pos)\n",
    "        masked_tokens, masked_pos = [], []\n",
    "        for pos in cand_maked_pos[: n_pred]:\n",
    "            masked_pos.append(pos)\n",
    "            masked_tokens.append(input_ids[pos])\n",
    "            if random() < 0.8:\n",
    "                input_ids[pos] = word_dict['[MASK]']\n",
    "            elif random() < 0.5:\n",
    "                index = randint(0, vocab_size - 1)\n",
    "                input_ids[pos] = word_dict[number_dict[index]]\n",
    "        \n",
    "        n_pad = maxlen - len(input_ids)\n",
    "        input_ids.extend([0] * n_pad)\n",
    "        segment_ids.extend([0] * n_pad)\n",
    "\n",
    "        if max_pred > n_pred:\n",
    "            n_pad = max_pred - n_pred\n",
    "            masked_tokens.extend([0] * n_pad)\n",
    "            masked_pos.extend([0] * n_pad)\n",
    "\n",
    "        if tokens_a_index + 1 == tokens_b_index and positive < batch_size / 2:\n",
    "            batch.append([input_ids, segment_ids, masked_tokens, masked_pos, True])\n",
    "            positive += 1\n",
    "        elif tokens_a_index + 1 != tokens_b_index and negative < batch_size / 2:\n",
    "            batch.append([input_ids, segment_ids, masked_tokens, masked_pos, False])\n",
    "            negative += 1\n",
    "\n",
    "    return batch"
   ]
  },
  {
   "cell_type": "markdown",
   "metadata": {},
   "source": [
    "### 嵌入表示"
   ]
  },
  {
   "cell_type": "code",
   "execution_count": 9,
   "metadata": {
    "ExecuteTime": {
     "end_time": "2020-06-28T03:43:43.851056Z",
     "start_time": "2020-06-28T03:43:43.845191Z"
    }
   },
   "outputs": [],
   "source": [
    "class Embedding(nn.Module):\n",
    "    def __init__(self):\n",
    "        super(Embedding, self).__init__()\n",
    "        self.tok_embed = nn.Embedding(vocab_size, d_model)\n",
    "        self.pos_embed = nn.Embedding(maxlen, d_model)\n",
    "        self.seg_embed = nn.Embedding(n_segments, d_model)\n",
    "        self.norm = nn.LayerNorm(d_model)\n",
    "\n",
    "    def forward(self, x, seg):\n",
    "        seq_len = x.size(1)\n",
    "        pos = torch.arange(seq_len, dtype=torch.long)\n",
    "        pos = pos.unsqueeze(0).expand_as(x)\n",
    "        embedding = self.tok_embed(x) + self.pos_embed(pos) + self.seg_embed(seg)\n",
    "        return self.norm(embedding)"
   ]
  },
  {
   "cell_type": "markdown",
   "metadata": {},
   "source": [
    "### 编码器定义"
   ]
  },
  {
   "cell_type": "code",
   "execution_count": 4,
   "metadata": {
    "ExecuteTime": {
     "end_time": "2020-06-28T03:41:59.396999Z",
     "start_time": "2020-06-28T03:41:59.391930Z"
    }
   },
   "outputs": [],
   "source": [
    "class EncoderLayer(nn.Module):\n",
    "    def __init__(self):\n",
    "        super(EncoderLayer, self).__init__()\n",
    "        self.enc_self_attn = MultiHeadAttention()\n",
    "        self.pos_ffn = PoswiseFeedForwardNet()\n",
    "\n",
    "    def forward(self, enc_inputs, enc_self_attn_mask):\n",
    "        enc_outputs, attn = self.enc_self_attn(enc_inputs, enc_inputs, enc_inputs, enc_self_attn_mask)\n",
    "        enc_outputs = self.pos_ffn(enc_outputs)\n",
    "        return enc_outputs, attn"
   ]
  },
  {
   "cell_type": "markdown",
   "metadata": {},
   "source": [
    "### 缩放点积、多头注意力机制与前馈神经网络"
   ]
  },
  {
   "cell_type": "code",
   "execution_count": 5,
   "metadata": {
    "ExecuteTime": {
     "end_time": "2020-06-28T03:42:02.926424Z",
     "start_time": "2020-06-28T03:42:02.906939Z"
    }
   },
   "outputs": [],
   "source": [
    "class ScaledDotProductAttention(nn.Module):\n",
    "    def __init__(self):\n",
    "        super(ScaledDotProductAttention, self).__init__()\n",
    "\n",
    "    def forward(self, Q, K, V, attn_mask):\n",
    "        scores = torch.matmul(Q, K.transpose(-1, -2)) / np.sqrt(d_k)\n",
    "        scores.masked_fill_(attn_mask, -1e9)\n",
    "        attn = nn.Softmax(dim=-1)(scores)\n",
    "        context = torch.matmul(attn, V)\n",
    "        return context, attn\n",
    "\n",
    "class MultiHeadAttention(nn.Module):\n",
    "    def __init__(self):\n",
    "        super(MultiHeadAttention, self).__init__()\n",
    "        self.W_Q = nn.Linear(d_model, d_k * n_heads)\n",
    "        self.W_K = nn.Linear(d_model, d_k * n_heads)\n",
    "        self.W_V = nn.Linear(d_model, d_v * n_heads)\n",
    "\n",
    "    def forward(self, Q, K, V, attn_mask):\n",
    "        residual, batch_size = Q, Q.size(0)\n",
    "        q_s = self.W_Q(Q).view(batch_size, -1, n_heads, d_k).transpose(1, 2)\n",
    "        k_s = self.W_K(K).view(batch_size, -1, n_heads, d_k).transpose(1, 2)\n",
    "        v_s = self.W_V(V).view(batch_size, -1, n_heads, d_v).transpose(1, 2)\n",
    "\n",
    "        attn_mask = attn_mask.unsqueeze(1).repeat(1, n_heads, 1, 1)\n",
    "\n",
    "        context, attn = ScaledDotProductAttention()(q_s, k_s, v_s, attn_mask)\n",
    "        context = context.transpose(1, 2).contiguous().view(batch_size, -1, n_heads * d_v)\n",
    "        output = nn.Linear(n_heads * d_v, d_model)(context)\n",
    "        return nn.LayerNorm(d_model)(output + residual), attn\n",
    "\n",
    "class PoswiseFeedForwardNet(nn.Module):\n",
    "    def __init__(self):\n",
    "        super(PoswiseFeedForwardNet, self).__init__()\n",
    "        self.fc1 = nn.Linear(d_model, d_ff)\n",
    "        self.fc2 = nn.Linear(d_ff, d_model)\n",
    "\n",
    "    def forward(self, x):\n",
    "        return self.fc2(gelu(self.fc1(x)))\n",
    "    \n",
    "def gelu(x):\n",
    "    return x * 0.5 * (1.0 + torch.erf(x / math.sqrt(2.0)))"
   ]
  },
  {
   "cell_type": "markdown",
   "metadata": {},
   "source": [
    "### 模型定义"
   ]
  },
  {
   "cell_type": "code",
   "execution_count": 7,
   "metadata": {
    "ExecuteTime": {
     "end_time": "2020-06-28T03:43:33.327545Z",
     "start_time": "2020-06-28T03:43:33.315571Z"
    }
   },
   "outputs": [],
   "source": [
    "class BERT(nn.Module):\n",
    "    def __init__(self):\n",
    "        super(BERT, self).__init__()\n",
    "        self.embedding = Embedding()\n",
    "        self.layers = nn.ModuleList([EncoderLayer() for _ in range(n_layers)])\n",
    "        self.fc = nn.Linear(d_model, d_model)\n",
    "        self.activ1 = nn.Tanh()\n",
    "        self.linear = nn.Linear(d_model, d_model)\n",
    "        self.activ2 = gelu\n",
    "        self.norm = nn.LayerNorm(d_model)\n",
    "        self.classifier = nn.Linear(d_model, 2)\n",
    "\n",
    "        embed_weight = self.embedding.tok_embed.weight \n",
    "        n_vocab, n_dim = embed_weight.size()\n",
    "        self.decoder = nn.Linear(n_dim, n_vocab, bias=False)\n",
    "        self.decoder.weight = embed_weight\n",
    "        self.decoder_bias = nn.Parameter(torch.zeros(n_vocab))\n",
    "\n",
    "    def forward(self, input_ids, segmetn_ids, masked_pos):\n",
    "        output = self.embedding(input_ids, segmetn_ids)\n",
    "        enc_self_attn_mask = get_attn_pad_mask(input_ids, input_ids)\n",
    "        for layer in self.layers:\n",
    "            output, enc_self_attn = layer(output, enc_self_attn_mask)\n",
    "        h_pooled = self.activ1(self.fc(output[:, 0]))\n",
    "        logits_clsf = self.classifier(h_pooled)\n",
    "\n",
    "        masked_pos = masked_pos[:, :, None].expand(-1, -1, output.size(-1))\n",
    "        h_masked = torch.gather(output, 1, masked_pos)\n",
    "        h_masked = self.norm(self.activ2(self.linear(h_masked)))\n",
    "        logits_lm = self.decoder(h_masked) + self.decoder_bias\n",
    "\n",
    "        return logits_lm, logits_clsf\n",
    "    \n",
    "def get_attn_pad_mask(seq_q, seq_k):\n",
    "    batch_size, len_q = seq_q.size()\n",
    "    batch_size, len_k = seq_k.size()\n",
    "\n",
    "    pad_attn_mask = seq_k.data.eq(0).unsqueeze(1)\n",
    "    return pad_attn_mask.expand(batch_size, len_q, len_k)"
   ]
  },
  {
   "cell_type": "markdown",
   "metadata": {},
   "source": [
    "### 模型训练及测试"
   ]
  },
  {
   "cell_type": "code",
   "execution_count": 12,
   "metadata": {
    "ExecuteTime": {
     "end_time": "2020-06-28T03:55:23.989670Z",
     "start_time": "2020-06-28T03:53:42.757814Z"
    }
   },
   "outputs": [
    {
     "name": "stdout",
     "output_type": "stream",
     "text": [
      "Epoch: 0010 cost = 23.786695\n",
      "Epoch: 0020 cost = 16.356310\n",
      "Epoch: 0030 cost = 15.282166\n",
      "Epoch: 0040 cost = 11.731420\n",
      "Epoch: 0050 cost = 4.075703\n",
      "Epoch: 0060 cost = 5.408222\n",
      "Epoch: 0070 cost = 7.387890\n",
      "Epoch: 0080 cost = 6.051405\n",
      "Epoch: 0090 cost = 7.315189\n",
      "Epoch: 0100 cost = 4.481243\n",
      "Hello, how are you? I am Romeo.\n",
      "Hello, Romeo My name is Juliet. Nice to meet you.\n",
      "Nice meet you too. How are you today?\n",
      "Great. My baseball team won the competition.\n",
      "Oh Congratulations, Juliet\n",
      "Thanks you Romeo\n",
      "['[CLS]', 'great', 'my', 'baseball', 'team', 'won', 'the', 'competition', '[SEP]', 'great', '[MASK]', 'baseball', '[MASK]', 'won', 'romeo', 'competition', '[SEP]']\n",
      "masked tokens list :  [23, 28, 27]\n",
      "predict masked tokens list :  [23, 23, 23]\n",
      "isNext :  False\n",
      "predict isNext :  True\n"
     ]
    }
   ],
   "source": [
    "model = BERT()\n",
    "criterion = nn.CrossEntropyLoss()\n",
    "optimizer = optim.Adam(model.parameters(), lr=0.001)\n",
    "\n",
    "batch = make_batch()\n",
    "input_ids, segment_ids, masked_tokens, masked_pos, isNext = zip(*batch)\n",
    "input_ids, segment_ids, masked_tokens, masked_pos, isNext = \\\n",
    "    torch.LongTensor(input_ids),  torch.LongTensor(segment_ids), torch.LongTensor(masked_tokens), \\\n",
    "    torch.LongTensor(masked_pos), torch.LongTensor(isNext)\n",
    "\n",
    "for epoch in range(100):\n",
    "    optimizer.zero_grad()\n",
    "    logits_lm, logits_clsf = model(input_ids, segment_ids, masked_pos)\n",
    "    loss_lm = criterion(logits_lm.transpose(1, 2), masked_tokens) # for masked LM\n",
    "    loss_lm = (loss_lm.float()).mean()\n",
    "    loss_clsf = criterion(logits_clsf, isNext) # for sentence classification\n",
    "    loss = loss_lm + loss_clsf\n",
    "    if (epoch + 1) % 10 == 0:\n",
    "        print('Epoch:', '%04d' % (epoch + 1), 'cost =', '{:.6f}'.format(loss))\n",
    "    loss.backward()\n",
    "    optimizer.step()\n",
    "\n",
    "# Predict mask tokens ans isNext\n",
    "input_ids, segment_ids, masked_tokens, masked_pos, isNext = batch[0]\n",
    "print(text)\n",
    "print([number_dict[w] for w in input_ids if number_dict[w] != '[PAD]'])\n",
    "\n",
    "logits_lm, logits_clsf = model(torch.LongTensor([input_ids]), \\\n",
    "                               torch.LongTensor([segment_ids]), torch.LongTensor([masked_pos]))\n",
    "logits_lm = logits_lm.data.max(2)[1][0].data.numpy()\n",
    "print('masked tokens list : ',[pos for pos in masked_tokens if pos != 0])\n",
    "print('predict masked tokens list : ',[pos for pos in logits_lm if pos != 0])\n",
    "\n",
    "logits_clsf = logits_clsf.data.max(1)[1].data.numpy()[0]\n",
    "print('isNext : ', True if isNext else False)\n",
    "print('predict isNext : ',True if logits_clsf else False)"
   ]
  },
  {
   "cell_type": "code",
   "execution_count": null,
   "metadata": {},
   "outputs": [],
   "source": []
  }
 ],
 "metadata": {
  "kernelspec": {
   "display_name": "Python 3",
   "language": "python",
   "name": "python3"
  },
  "language_info": {
   "codemirror_mode": {
    "name": "ipython",
    "version": 3
   },
   "file_extension": ".py",
   "mimetype": "text/x-python",
   "name": "python",
   "nbconvert_exporter": "python",
   "pygments_lexer": "ipython3",
   "version": "3.8.5"
  },
  "toc": {
   "base_numbering": 1,
   "nav_menu": {},
   "number_sections": true,
   "sideBar": true,
   "skip_h1_title": true,
   "title_cell": "Table of Contents",
   "title_sidebar": "Contents",
   "toc_cell": true,
   "toc_position": {},
   "toc_section_display": true,
   "toc_window_display": false
  }
 },
 "nbformat": 4,
 "nbformat_minor": 2
}
